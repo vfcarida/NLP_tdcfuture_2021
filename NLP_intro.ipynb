{
 "cells": [
  {
   "cell_type": "markdown",
   "metadata": {
    "id": "JfPDkSWmdC_b"
   },
   "source": [
    "# Código da apresentação de NLP"
   ]
  },
  {
   "cell_type": "code",
   "execution_count": 1,
   "metadata": {},
   "outputs": [
    {
     "name": "stdout",
     "output_type": "stream",
     "text": [
      "Requirement already satisfied: pip in /home/ec2-user/anaconda3/envs/tensorflow_p36/lib/python3.6/site-packages (21.2.4)\n",
      "Collecting pip\n",
      "  Downloading pip-21.3.1-py3-none-any.whl (1.7 MB)\n",
      "\u001b[K     |████████████████████████████████| 1.7 MB 4.5 MB/s eta 0:00:01\n",
      "\u001b[?25hRequirement already satisfied: setuptools in /home/ec2-user/anaconda3/envs/tensorflow_p36/lib/python3.6/site-packages (58.5.3)\n",
      "Collecting setuptools\n",
      "  Downloading setuptools-59.4.0-py3-none-any.whl (952 kB)\n",
      "\u001b[K     |████████████████████████████████| 952 kB 68.5 MB/s eta 0:00:01\n",
      "\u001b[?25hRequirement already satisfied: wheel in /home/ec2-user/anaconda3/envs/tensorflow_p36/lib/python3.6/site-packages (0.36.2)\n",
      "Collecting wheel\n",
      "  Downloading wheel-0.37.0-py2.py3-none-any.whl (35 kB)\n",
      "Installing collected packages: wheel, setuptools, pip\n",
      "  Attempting uninstall: wheel\n",
      "    Found existing installation: wheel 0.36.2\n",
      "    Uninstalling wheel-0.36.2:\n",
      "      Successfully uninstalled wheel-0.36.2\n",
      "  Attempting uninstall: setuptools\n",
      "    Found existing installation: setuptools 58.5.3\n",
      "    Uninstalling setuptools-58.5.3:\n",
      "      Successfully uninstalled setuptools-58.5.3\n",
      "  Attempting uninstall: pip\n",
      "    Found existing installation: pip 21.2.4\n",
      "    Uninstalling pip-21.2.4:\n",
      "      Successfully uninstalled pip-21.2.4\n",
      "\u001b[31mERROR: pip's dependency resolver does not currently take into account all the packages that are installed. This behaviour is the source of the following dependency conflicts.\n",
      "tensorflow-cpu 1.15.5 requires numpy<1.19.0,>=1.16.0, but you have numpy 1.19.5 which is incompatible.\u001b[0m\n",
      "Successfully installed pip-21.3.1 setuptools-59.4.0 wheel-0.37.0\n",
      "Collecting spacy\n",
      "  Downloading spacy-3.2.0-cp36-cp36m-manylinux_2_17_x86_64.manylinux2014_x86_64.whl (6.0 MB)\n",
      "     |████████████████████████████████| 6.0 MB 4.5 MB/s            \n",
      "\u001b[?25hCollecting pydantic!=1.8,!=1.8.1,<1.9.0,>=1.7.4\n",
      "  Downloading pydantic-1.8.2-cp36-cp36m-manylinux2014_x86_64.whl (10.2 MB)\n",
      "     |████████████████████████████████| 10.2 MB 60.1 MB/s            \n",
      "\u001b[?25hCollecting langcodes<4.0.0,>=3.2.0\n",
      "  Downloading langcodes-3.3.0-py3-none-any.whl (181 kB)\n",
      "     |████████████████████████████████| 181 kB 135.9 MB/s            \n",
      "\u001b[?25hCollecting blis<0.8.0,>=0.4.0\n",
      "  Downloading blis-0.7.5-cp36-cp36m-manylinux_2_17_x86_64.manylinux2014_x86_64.whl (9.9 MB)\n",
      "     |████████████████████████████████| 9.9 MB 108.6 MB/s            \n",
      "\u001b[?25hCollecting srsly<3.0.0,>=2.4.1\n",
      "  Downloading srsly-2.4.2-cp36-cp36m-manylinux_2_17_x86_64.manylinux2014_x86_64.whl (451 kB)\n",
      "     |████████████████████████████████| 451 kB 92.0 MB/s            \n",
      "\u001b[?25hRequirement already satisfied: jinja2 in /home/ec2-user/anaconda3/envs/tensorflow_p36/lib/python3.6/site-packages (from spacy) (2.11.3)\n",
      "Requirement already satisfied: typing-extensions<4.0.0.0,>=3.7.4 in /home/ec2-user/anaconda3/envs/tensorflow_p36/lib/python3.6/site-packages (from spacy) (3.10.0.2)\n",
      "Collecting spacy-loggers<2.0.0,>=1.0.0\n",
      "  Downloading spacy_loggers-1.0.1-py3-none-any.whl (7.0 kB)\n",
      "Collecting catalogue<2.1.0,>=2.0.6\n",
      "  Downloading catalogue-2.0.6-py3-none-any.whl (17 kB)\n",
      "Requirement already satisfied: requests<3.0.0,>=2.13.0 in /home/ec2-user/anaconda3/envs/tensorflow_p36/lib/python3.6/site-packages (from spacy) (2.26.0)\n",
      "Collecting spacy-legacy<3.1.0,>=3.0.8\n",
      "  Downloading spacy_legacy-3.0.8-py2.py3-none-any.whl (14 kB)\n",
      "Collecting typer<0.5.0,>=0.3.0\n",
      "  Downloading typer-0.4.0-py3-none-any.whl (27 kB)\n",
      "Collecting thinc<8.1.0,>=8.0.12\n",
      "  Downloading thinc-8.0.13-cp36-cp36m-manylinux_2_17_x86_64.manylinux2014_x86_64.whl (629 kB)\n",
      "     |████████████████████████████████| 629 kB 98.8 MB/s            \n",
      "\u001b[?25hCollecting pathy>=0.3.5\n",
      "  Downloading pathy-0.6.1-py3-none-any.whl (42 kB)\n",
      "     |████████████████████████████████| 42 kB 3.3 MB/s              \n",
      "\u001b[?25hRequirement already satisfied: tqdm<5.0.0,>=4.38.0 in /home/ec2-user/anaconda3/envs/tensorflow_p36/lib/python3.6/site-packages (from spacy) (4.62.3)\n",
      "Collecting wasabi<1.1.0,>=0.8.1\n",
      "  Downloading wasabi-0.8.2-py3-none-any.whl (23 kB)\n",
      "Requirement already satisfied: numpy>=1.15.0 in /home/ec2-user/anaconda3/envs/tensorflow_p36/lib/python3.6/site-packages (from spacy) (1.19.5)\n",
      "Collecting murmurhash<1.1.0,>=0.28.0\n",
      "  Downloading murmurhash-1.0.6-cp36-cp36m-manylinux_2_5_x86_64.manylinux1_x86_64.manylinux_2_17_x86_64.manylinux2014_x86_64.whl (21 kB)\n",
      "Requirement already satisfied: setuptools in /home/ec2-user/anaconda3/envs/tensorflow_p36/lib/python3.6/site-packages (from spacy) (59.4.0)\n",
      "Requirement already satisfied: packaging>=20.0 in /home/ec2-user/anaconda3/envs/tensorflow_p36/lib/python3.6/site-packages (from spacy) (21.2)\n",
      "Collecting cymem<2.1.0,>=2.0.2\n",
      "  Downloading cymem-2.0.6-cp36-cp36m-manylinux_2_17_x86_64.manylinux2014_x86_64.whl (35 kB)\n",
      "Collecting preshed<3.1.0,>=3.0.2\n",
      "  Downloading preshed-3.0.6-cp36-cp36m-manylinux_2_5_x86_64.manylinux1_x86_64.manylinux_2_17_x86_64.manylinux2014_x86_64.whl (127 kB)\n",
      "     |████████████████████████████████| 127 kB 130.6 MB/s            \n",
      "\u001b[?25hRequirement already satisfied: zipp>=0.5 in /home/ec2-user/anaconda3/envs/tensorflow_p36/lib/python3.6/site-packages (from catalogue<2.1.0,>=2.0.6->spacy) (3.6.0)\n",
      "Requirement already satisfied: pyparsing<3,>=2.0.2 in /home/ec2-user/anaconda3/envs/tensorflow_p36/lib/python3.6/site-packages (from packaging>=20.0->spacy) (2.4.7)\n",
      "Requirement already satisfied: dataclasses<1.0,>=0.6 in /home/ec2-user/anaconda3/envs/tensorflow_p36/lib/python3.6/site-packages (from pathy>=0.3.5->spacy) (0.8)\n",
      "Collecting smart-open<6.0.0,>=5.0.0\n",
      "  Downloading smart_open-5.2.1-py3-none-any.whl (58 kB)\n",
      "     |████████████████████████████████| 58 kB 12.0 MB/s             \n",
      "\u001b[?25hRequirement already satisfied: charset-normalizer~=2.0.0 in /home/ec2-user/anaconda3/envs/tensorflow_p36/lib/python3.6/site-packages (from requests<3.0.0,>=2.13.0->spacy) (2.0.7)\n",
      "Requirement already satisfied: urllib3<1.27,>=1.21.1 in /home/ec2-user/anaconda3/envs/tensorflow_p36/lib/python3.6/site-packages (from requests<3.0.0,>=2.13.0->spacy) (1.26.7)\n",
      "Requirement already satisfied: idna<4,>=2.5 in /home/ec2-user/anaconda3/envs/tensorflow_p36/lib/python3.6/site-packages (from requests<3.0.0,>=2.13.0->spacy) (3.3)\n",
      "Requirement already satisfied: certifi>=2017.4.17 in /home/ec2-user/anaconda3/envs/tensorflow_p36/lib/python3.6/site-packages (from requests<3.0.0,>=2.13.0->spacy) (2021.10.8)\n",
      "Requirement already satisfied: contextvars<3,>=2.4 in /home/ec2-user/anaconda3/envs/tensorflow_p36/lib/python3.6/site-packages (from thinc<8.1.0,>=8.0.12->spacy) (2.4)\n",
      "Requirement already satisfied: click<9.0.0,>=7.1.1 in /home/ec2-user/anaconda3/envs/tensorflow_p36/lib/python3.6/site-packages (from typer<0.5.0,>=0.3.0->spacy) (7.1.2)\n",
      "Requirement already satisfied: MarkupSafe>=0.23 in /home/ec2-user/anaconda3/envs/tensorflow_p36/lib/python3.6/site-packages (from jinja2->spacy) (1.1.1)\n",
      "Requirement already satisfied: immutables>=0.9 in /home/ec2-user/anaconda3/envs/tensorflow_p36/lib/python3.6/site-packages (from contextvars<3,>=2.4->thinc<8.1.0,>=8.0.12->spacy) (0.15)\n",
      "Installing collected packages: murmurhash, cymem, catalogue, wasabi, typer, srsly, smart-open, pydantic, preshed, blis, thinc, spacy-loggers, spacy-legacy, pathy, langcodes, spacy\n",
      "Successfully installed blis-0.7.5 catalogue-2.0.6 cymem-2.0.6 langcodes-3.3.0 murmurhash-1.0.6 pathy-0.6.1 preshed-3.0.6 pydantic-1.8.2 smart-open-5.2.1 spacy-3.2.0 spacy-legacy-3.0.8 spacy-loggers-1.0.1 srsly-2.4.2 thinc-8.0.13 typer-0.4.0 wasabi-0.8.2\n",
      "WARNING:tensorflow:From /home/ec2-user/anaconda3/envs/tensorflow_p36/cpu/lib/python3.6/site-packages/tensorflow_core/__init__.py:1473: The name tf.estimator.inputs is deprecated. Please use tf.compat.v1.estimator.inputs instead.\n",
      "\n",
      "Collecting en-core-web-sm==3.2.0\n",
      "  Downloading https://github.com/explosion/spacy-models/releases/download/en_core_web_sm-3.2.0/en_core_web_sm-3.2.0-py3-none-any.whl (13.9 MB)\n",
      "     |████████████████████████████████| 13.9 MB 5.7 MB/s            \n",
      "\u001b[?25hRequirement already satisfied: spacy<3.3.0,>=3.2.0 in /home/ec2-user/anaconda3/envs/tensorflow_p36/lib/python3.6/site-packages (from en-core-web-sm==3.2.0) (3.2.0)\n",
      "Requirement already satisfied: requests<3.0.0,>=2.13.0 in /home/ec2-user/anaconda3/envs/tensorflow_p36/lib/python3.6/site-packages (from spacy<3.3.0,>=3.2.0->en-core-web-sm==3.2.0) (2.26.0)\n",
      "Requirement already satisfied: cymem<2.1.0,>=2.0.2 in /home/ec2-user/anaconda3/envs/tensorflow_p36/lib/python3.6/site-packages (from spacy<3.3.0,>=3.2.0->en-core-web-sm==3.2.0) (2.0.6)\n",
      "Requirement already satisfied: wasabi<1.1.0,>=0.8.1 in /home/ec2-user/anaconda3/envs/tensorflow_p36/lib/python3.6/site-packages (from spacy<3.3.0,>=3.2.0->en-core-web-sm==3.2.0) (0.8.2)\n",
      "Requirement already satisfied: typing-extensions<4.0.0.0,>=3.7.4 in /home/ec2-user/anaconda3/envs/tensorflow_p36/lib/python3.6/site-packages (from spacy<3.3.0,>=3.2.0->en-core-web-sm==3.2.0) (3.10.0.2)\n",
      "Requirement already satisfied: blis<0.8.0,>=0.4.0 in /home/ec2-user/anaconda3/envs/tensorflow_p36/lib/python3.6/site-packages (from spacy<3.3.0,>=3.2.0->en-core-web-sm==3.2.0) (0.7.5)\n",
      "Requirement already satisfied: langcodes<4.0.0,>=3.2.0 in /home/ec2-user/anaconda3/envs/tensorflow_p36/lib/python3.6/site-packages (from spacy<3.3.0,>=3.2.0->en-core-web-sm==3.2.0) (3.3.0)\n",
      "Requirement already satisfied: thinc<8.1.0,>=8.0.12 in /home/ec2-user/anaconda3/envs/tensorflow_p36/lib/python3.6/site-packages (from spacy<3.3.0,>=3.2.0->en-core-web-sm==3.2.0) (8.0.13)\n",
      "Requirement already satisfied: numpy>=1.15.0 in /home/ec2-user/anaconda3/envs/tensorflow_p36/lib/python3.6/site-packages (from spacy<3.3.0,>=3.2.0->en-core-web-sm==3.2.0) (1.19.5)\n",
      "Requirement already satisfied: typer<0.5.0,>=0.3.0 in /home/ec2-user/anaconda3/envs/tensorflow_p36/lib/python3.6/site-packages (from spacy<3.3.0,>=3.2.0->en-core-web-sm==3.2.0) (0.4.0)\n",
      "Requirement already satisfied: jinja2 in /home/ec2-user/anaconda3/envs/tensorflow_p36/lib/python3.6/site-packages (from spacy<3.3.0,>=3.2.0->en-core-web-sm==3.2.0) (2.11.3)\n",
      "Requirement already satisfied: catalogue<2.1.0,>=2.0.6 in /home/ec2-user/anaconda3/envs/tensorflow_p36/lib/python3.6/site-packages (from spacy<3.3.0,>=3.2.0->en-core-web-sm==3.2.0) (2.0.6)\n",
      "Requirement already satisfied: setuptools in /home/ec2-user/anaconda3/envs/tensorflow_p36/lib/python3.6/site-packages (from spacy<3.3.0,>=3.2.0->en-core-web-sm==3.2.0) (59.4.0)\n",
      "Requirement already satisfied: srsly<3.0.0,>=2.4.1 in /home/ec2-user/anaconda3/envs/tensorflow_p36/lib/python3.6/site-packages (from spacy<3.3.0,>=3.2.0->en-core-web-sm==3.2.0) (2.4.2)\n",
      "Requirement already satisfied: pathy>=0.3.5 in /home/ec2-user/anaconda3/envs/tensorflow_p36/lib/python3.6/site-packages (from spacy<3.3.0,>=3.2.0->en-core-web-sm==3.2.0) (0.6.1)\n",
      "Requirement already satisfied: preshed<3.1.0,>=3.0.2 in /home/ec2-user/anaconda3/envs/tensorflow_p36/lib/python3.6/site-packages (from spacy<3.3.0,>=3.2.0->en-core-web-sm==3.2.0) (3.0.6)\n",
      "Requirement already satisfied: pydantic!=1.8,!=1.8.1,<1.9.0,>=1.7.4 in /home/ec2-user/anaconda3/envs/tensorflow_p36/lib/python3.6/site-packages (from spacy<3.3.0,>=3.2.0->en-core-web-sm==3.2.0) (1.8.2)\n",
      "Requirement already satisfied: packaging>=20.0 in /home/ec2-user/anaconda3/envs/tensorflow_p36/lib/python3.6/site-packages (from spacy<3.3.0,>=3.2.0->en-core-web-sm==3.2.0) (21.2)\n",
      "Requirement already satisfied: murmurhash<1.1.0,>=0.28.0 in /home/ec2-user/anaconda3/envs/tensorflow_p36/lib/python3.6/site-packages (from spacy<3.3.0,>=3.2.0->en-core-web-sm==3.2.0) (1.0.6)\n",
      "Requirement already satisfied: spacy-legacy<3.1.0,>=3.0.8 in /home/ec2-user/anaconda3/envs/tensorflow_p36/lib/python3.6/site-packages (from spacy<3.3.0,>=3.2.0->en-core-web-sm==3.2.0) (3.0.8)\n",
      "Requirement already satisfied: spacy-loggers<2.0.0,>=1.0.0 in /home/ec2-user/anaconda3/envs/tensorflow_p36/lib/python3.6/site-packages (from spacy<3.3.0,>=3.2.0->en-core-web-sm==3.2.0) (1.0.1)\n",
      "Requirement already satisfied: tqdm<5.0.0,>=4.38.0 in /home/ec2-user/anaconda3/envs/tensorflow_p36/lib/python3.6/site-packages (from spacy<3.3.0,>=3.2.0->en-core-web-sm==3.2.0) (4.62.3)\n",
      "Requirement already satisfied: zipp>=0.5 in /home/ec2-user/anaconda3/envs/tensorflow_p36/lib/python3.6/site-packages (from catalogue<2.1.0,>=2.0.6->spacy<3.3.0,>=3.2.0->en-core-web-sm==3.2.0) (3.6.0)\n",
      "Requirement already satisfied: pyparsing<3,>=2.0.2 in /home/ec2-user/anaconda3/envs/tensorflow_p36/lib/python3.6/site-packages (from packaging>=20.0->spacy<3.3.0,>=3.2.0->en-core-web-sm==3.2.0) (2.4.7)\n",
      "Requirement already satisfied: smart-open<6.0.0,>=5.0.0 in /home/ec2-user/anaconda3/envs/tensorflow_p36/lib/python3.6/site-packages (from pathy>=0.3.5->spacy<3.3.0,>=3.2.0->en-core-web-sm==3.2.0) (5.2.1)\n",
      "Requirement already satisfied: dataclasses<1.0,>=0.6 in /home/ec2-user/anaconda3/envs/tensorflow_p36/lib/python3.6/site-packages (from pathy>=0.3.5->spacy<3.3.0,>=3.2.0->en-core-web-sm==3.2.0) (0.8)\n",
      "Requirement already satisfied: charset-normalizer~=2.0.0 in /home/ec2-user/anaconda3/envs/tensorflow_p36/lib/python3.6/site-packages (from requests<3.0.0,>=2.13.0->spacy<3.3.0,>=3.2.0->en-core-web-sm==3.2.0) (2.0.7)\n",
      "Requirement already satisfied: certifi>=2017.4.17 in /home/ec2-user/anaconda3/envs/tensorflow_p36/lib/python3.6/site-packages (from requests<3.0.0,>=2.13.0->spacy<3.3.0,>=3.2.0->en-core-web-sm==3.2.0) (2021.10.8)\n",
      "Requirement already satisfied: idna<4,>=2.5 in /home/ec2-user/anaconda3/envs/tensorflow_p36/lib/python3.6/site-packages (from requests<3.0.0,>=2.13.0->spacy<3.3.0,>=3.2.0->en-core-web-sm==3.2.0) (3.3)\n",
      "Requirement already satisfied: urllib3<1.27,>=1.21.1 in /home/ec2-user/anaconda3/envs/tensorflow_p36/lib/python3.6/site-packages (from requests<3.0.0,>=2.13.0->spacy<3.3.0,>=3.2.0->en-core-web-sm==3.2.0) (1.26.7)\n",
      "Requirement already satisfied: contextvars<3,>=2.4 in /home/ec2-user/anaconda3/envs/tensorflow_p36/lib/python3.6/site-packages (from thinc<8.1.0,>=8.0.12->spacy<3.3.0,>=3.2.0->en-core-web-sm==3.2.0) (2.4)\n",
      "Requirement already satisfied: click<9.0.0,>=7.1.1 in /home/ec2-user/anaconda3/envs/tensorflow_p36/lib/python3.6/site-packages (from typer<0.5.0,>=0.3.0->spacy<3.3.0,>=3.2.0->en-core-web-sm==3.2.0) (7.1.2)\n",
      "Requirement already satisfied: MarkupSafe>=0.23 in /home/ec2-user/anaconda3/envs/tensorflow_p36/lib/python3.6/site-packages (from jinja2->spacy<3.3.0,>=3.2.0->en-core-web-sm==3.2.0) (1.1.1)\n",
      "Requirement already satisfied: immutables>=0.9 in /home/ec2-user/anaconda3/envs/tensorflow_p36/lib/python3.6/site-packages (from contextvars<3,>=2.4->thinc<8.1.0,>=8.0.12->spacy<3.3.0,>=3.2.0->en-core-web-sm==3.2.0) (0.15)\n",
      "Installing collected packages: en-core-web-sm\n",
      "Successfully installed en-core-web-sm-3.2.0\n",
      "\u001b[38;5;2m✔ Download and installation successful\u001b[0m\n",
      "You can now load the package via spacy.load('en_core_web_sm')\n",
      "WARNING:tensorflow:From /home/ec2-user/anaconda3/envs/tensorflow_p36/cpu/lib/python3.6/site-packages/tensorflow_core/__init__.py:1473: The name tf.estimator.inputs is deprecated. Please use tf.compat.v1.estimator.inputs instead.\n",
      "\n",
      "\u001b[38;5;3m⚠ As of spaCy v3.0, shortcuts like 'en' are deprecated. Please use the\n",
      "full pipeline package name 'en_core_web_sm' instead.\u001b[0m\n",
      "Collecting en-core-web-sm==3.2.0\n",
      "  Using cached https://github.com/explosion/spacy-models/releases/download/en_core_web_sm-3.2.0/en_core_web_sm-3.2.0-py3-none-any.whl (13.9 MB)\n",
      "Requirement already satisfied: spacy<3.3.0,>=3.2.0 in /home/ec2-user/anaconda3/envs/tensorflow_p36/lib/python3.6/site-packages (from en-core-web-sm==3.2.0) (3.2.0)\n",
      "Requirement already satisfied: catalogue<2.1.0,>=2.0.6 in /home/ec2-user/anaconda3/envs/tensorflow_p36/lib/python3.6/site-packages (from spacy<3.3.0,>=3.2.0->en-core-web-sm==3.2.0) (2.0.6)\n",
      "Requirement already satisfied: requests<3.0.0,>=2.13.0 in /home/ec2-user/anaconda3/envs/tensorflow_p36/lib/python3.6/site-packages (from spacy<3.3.0,>=3.2.0->en-core-web-sm==3.2.0) (2.26.0)\n",
      "Requirement already satisfied: tqdm<5.0.0,>=4.38.0 in /home/ec2-user/anaconda3/envs/tensorflow_p36/lib/python3.6/site-packages (from spacy<3.3.0,>=3.2.0->en-core-web-sm==3.2.0) (4.62.3)\n",
      "Requirement already satisfied: preshed<3.1.0,>=3.0.2 in /home/ec2-user/anaconda3/envs/tensorflow_p36/lib/python3.6/site-packages (from spacy<3.3.0,>=3.2.0->en-core-web-sm==3.2.0) (3.0.6)\n",
      "Requirement already satisfied: murmurhash<1.1.0,>=0.28.0 in /home/ec2-user/anaconda3/envs/tensorflow_p36/lib/python3.6/site-packages (from spacy<3.3.0,>=3.2.0->en-core-web-sm==3.2.0) (1.0.6)\n",
      "Requirement already satisfied: cymem<2.1.0,>=2.0.2 in /home/ec2-user/anaconda3/envs/tensorflow_p36/lib/python3.6/site-packages (from spacy<3.3.0,>=3.2.0->en-core-web-sm==3.2.0) (2.0.6)\n",
      "Requirement already satisfied: typing-extensions<4.0.0.0,>=3.7.4 in /home/ec2-user/anaconda3/envs/tensorflow_p36/lib/python3.6/site-packages (from spacy<3.3.0,>=3.2.0->en-core-web-sm==3.2.0) (3.10.0.2)\n",
      "Requirement already satisfied: typer<0.5.0,>=0.3.0 in /home/ec2-user/anaconda3/envs/tensorflow_p36/lib/python3.6/site-packages (from spacy<3.3.0,>=3.2.0->en-core-web-sm==3.2.0) (0.4.0)\n",
      "Requirement already satisfied: pathy>=0.3.5 in /home/ec2-user/anaconda3/envs/tensorflow_p36/lib/python3.6/site-packages (from spacy<3.3.0,>=3.2.0->en-core-web-sm==3.2.0) (0.6.1)\n",
      "Requirement already satisfied: jinja2 in /home/ec2-user/anaconda3/envs/tensorflow_p36/lib/python3.6/site-packages (from spacy<3.3.0,>=3.2.0->en-core-web-sm==3.2.0) (2.11.3)\n",
      "Requirement already satisfied: wasabi<1.1.0,>=0.8.1 in /home/ec2-user/anaconda3/envs/tensorflow_p36/lib/python3.6/site-packages (from spacy<3.3.0,>=3.2.0->en-core-web-sm==3.2.0) (0.8.2)\n",
      "Requirement already satisfied: spacy-loggers<2.0.0,>=1.0.0 in /home/ec2-user/anaconda3/envs/tensorflow_p36/lib/python3.6/site-packages (from spacy<3.3.0,>=3.2.0->en-core-web-sm==3.2.0) (1.0.1)\n",
      "Requirement already satisfied: pydantic!=1.8,!=1.8.1,<1.9.0,>=1.7.4 in /home/ec2-user/anaconda3/envs/tensorflow_p36/lib/python3.6/site-packages (from spacy<3.3.0,>=3.2.0->en-core-web-sm==3.2.0) (1.8.2)\n",
      "Requirement already satisfied: blis<0.8.0,>=0.4.0 in /home/ec2-user/anaconda3/envs/tensorflow_p36/lib/python3.6/site-packages (from spacy<3.3.0,>=3.2.0->en-core-web-sm==3.2.0) (0.7.5)\n",
      "Requirement already satisfied: setuptools in /home/ec2-user/anaconda3/envs/tensorflow_p36/lib/python3.6/site-packages (from spacy<3.3.0,>=3.2.0->en-core-web-sm==3.2.0) (59.4.0)\n",
      "Requirement already satisfied: spacy-legacy<3.1.0,>=3.0.8 in /home/ec2-user/anaconda3/envs/tensorflow_p36/lib/python3.6/site-packages (from spacy<3.3.0,>=3.2.0->en-core-web-sm==3.2.0) (3.0.8)\n",
      "Requirement already satisfied: numpy>=1.15.0 in /home/ec2-user/anaconda3/envs/tensorflow_p36/lib/python3.6/site-packages (from spacy<3.3.0,>=3.2.0->en-core-web-sm==3.2.0) (1.19.5)\n",
      "Requirement already satisfied: langcodes<4.0.0,>=3.2.0 in /home/ec2-user/anaconda3/envs/tensorflow_p36/lib/python3.6/site-packages (from spacy<3.3.0,>=3.2.0->en-core-web-sm==3.2.0) (3.3.0)\n",
      "Requirement already satisfied: thinc<8.1.0,>=8.0.12 in /home/ec2-user/anaconda3/envs/tensorflow_p36/lib/python3.6/site-packages (from spacy<3.3.0,>=3.2.0->en-core-web-sm==3.2.0) (8.0.13)\n",
      "Requirement already satisfied: packaging>=20.0 in /home/ec2-user/anaconda3/envs/tensorflow_p36/lib/python3.6/site-packages (from spacy<3.3.0,>=3.2.0->en-core-web-sm==3.2.0) (21.2)\n",
      "Requirement already satisfied: srsly<3.0.0,>=2.4.1 in /home/ec2-user/anaconda3/envs/tensorflow_p36/lib/python3.6/site-packages (from spacy<3.3.0,>=3.2.0->en-core-web-sm==3.2.0) (2.4.2)\n",
      "Requirement already satisfied: zipp>=0.5 in /home/ec2-user/anaconda3/envs/tensorflow_p36/lib/python3.6/site-packages (from catalogue<2.1.0,>=2.0.6->spacy<3.3.0,>=3.2.0->en-core-web-sm==3.2.0) (3.6.0)\n",
      "Requirement already satisfied: pyparsing<3,>=2.0.2 in /home/ec2-user/anaconda3/envs/tensorflow_p36/lib/python3.6/site-packages (from packaging>=20.0->spacy<3.3.0,>=3.2.0->en-core-web-sm==3.2.0) (2.4.7)\n",
      "Requirement already satisfied: smart-open<6.0.0,>=5.0.0 in /home/ec2-user/anaconda3/envs/tensorflow_p36/lib/python3.6/site-packages (from pathy>=0.3.5->spacy<3.3.0,>=3.2.0->en-core-web-sm==3.2.0) (5.2.1)\n",
      "Requirement already satisfied: dataclasses<1.0,>=0.6 in /home/ec2-user/anaconda3/envs/tensorflow_p36/lib/python3.6/site-packages (from pathy>=0.3.5->spacy<3.3.0,>=3.2.0->en-core-web-sm==3.2.0) (0.8)\n",
      "Requirement already satisfied: certifi>=2017.4.17 in /home/ec2-user/anaconda3/envs/tensorflow_p36/lib/python3.6/site-packages (from requests<3.0.0,>=2.13.0->spacy<3.3.0,>=3.2.0->en-core-web-sm==3.2.0) (2021.10.8)\n",
      "Requirement already satisfied: urllib3<1.27,>=1.21.1 in /home/ec2-user/anaconda3/envs/tensorflow_p36/lib/python3.6/site-packages (from requests<3.0.0,>=2.13.0->spacy<3.3.0,>=3.2.0->en-core-web-sm==3.2.0) (1.26.7)\n",
      "Requirement already satisfied: idna<4,>=2.5 in /home/ec2-user/anaconda3/envs/tensorflow_p36/lib/python3.6/site-packages (from requests<3.0.0,>=2.13.0->spacy<3.3.0,>=3.2.0->en-core-web-sm==3.2.0) (3.3)\n",
      "Requirement already satisfied: charset-normalizer~=2.0.0 in /home/ec2-user/anaconda3/envs/tensorflow_p36/lib/python3.6/site-packages (from requests<3.0.0,>=2.13.0->spacy<3.3.0,>=3.2.0->en-core-web-sm==3.2.0) (2.0.7)\n",
      "Requirement already satisfied: contextvars<3,>=2.4 in /home/ec2-user/anaconda3/envs/tensorflow_p36/lib/python3.6/site-packages (from thinc<8.1.0,>=8.0.12->spacy<3.3.0,>=3.2.0->en-core-web-sm==3.2.0) (2.4)\n",
      "Requirement already satisfied: click<9.0.0,>=7.1.1 in /home/ec2-user/anaconda3/envs/tensorflow_p36/lib/python3.6/site-packages (from typer<0.5.0,>=0.3.0->spacy<3.3.0,>=3.2.0->en-core-web-sm==3.2.0) (7.1.2)\n",
      "Requirement already satisfied: MarkupSafe>=0.23 in /home/ec2-user/anaconda3/envs/tensorflow_p36/lib/python3.6/site-packages (from jinja2->spacy<3.3.0,>=3.2.0->en-core-web-sm==3.2.0) (1.1.1)\n",
      "Requirement already satisfied: immutables>=0.9 in /home/ec2-user/anaconda3/envs/tensorflow_p36/lib/python3.6/site-packages (from contextvars<3,>=2.4->thinc<8.1.0,>=8.0.12->spacy<3.3.0,>=3.2.0->en-core-web-sm==3.2.0) (0.15)\n",
      "\u001b[38;5;2m✔ Download and installation successful\u001b[0m\n",
      "You can now load the package via spacy.load('en_core_web_sm')\n",
      "Collecting gensim\n",
      "  Downloading gensim-4.1.2-cp36-cp36m-manylinux_2_12_x86_64.manylinux2010_x86_64.whl (24.1 MB)\n",
      "     |████████████████████████████████| 24.1 MB 4.5 MB/s            \n",
      "\u001b[?25hRequirement already satisfied: dataclasses in /home/ec2-user/anaconda3/envs/tensorflow_p36/lib/python3.6/site-packages (from gensim) (0.8)\n",
      "Requirement already satisfied: numpy>=1.17.0 in /home/ec2-user/anaconda3/envs/tensorflow_p36/lib/python3.6/site-packages (from gensim) (1.19.5)\n",
      "Requirement already satisfied: scipy>=0.18.1 in /home/ec2-user/anaconda3/envs/tensorflow_p36/lib/python3.6/site-packages (from gensim) (1.5.3)\n",
      "Requirement already satisfied: smart-open>=1.8.1 in /home/ec2-user/anaconda3/envs/tensorflow_p36/lib/python3.6/site-packages (from gensim) (5.2.1)\n",
      "Installing collected packages: gensim\n",
      "Successfully installed gensim-4.1.2\n",
      "Collecting awswrangler\n",
      "  Downloading awswrangler-2.12.1-py3-none-any.whl (211 kB)\n",
      "     |████████████████████████████████| 211 kB 4.6 MB/s            \n",
      "\u001b[?25hRequirement already satisfied: pyarrow<5.1.0,>=2.0.0 in /home/ec2-user/anaconda3/envs/tensorflow_p36/lib/python3.6/site-packages (from awswrangler) (5.0.0)\n",
      "Collecting requests-aws4auth<2.0.0,>=1.1.1\n",
      "  Downloading requests_aws4auth-1.1.1-py2.py3-none-any.whl (31 kB)\n",
      "Collecting jsonpath-ng<2.0.0,>=1.5.3\n",
      "  Downloading jsonpath_ng-1.5.3-py3-none-any.whl (29 kB)\n",
      "Requirement already satisfied: pandas<1.2.0,>=1.1.0 in /home/ec2-user/anaconda3/envs/tensorflow_p36/lib/python3.6/site-packages (from awswrangler) (1.1.5)\n",
      "Collecting progressbar2<4.0.0,>=3.53.3\n",
      "  Downloading progressbar2-3.55.0-py2.py3-none-any.whl (26 kB)\n",
      "Requirement already satisfied: xlrd<3.0.0,>=2.0.1 in /home/ec2-user/anaconda3/envs/tensorflow_p36/lib/python3.6/site-packages (from awswrangler) (2.0.1)\n",
      "Requirement already satisfied: boto3<2.0.0,>=1.16.8 in /home/ec2-user/anaconda3/envs/tensorflow_p36/lib/python3.6/site-packages (from awswrangler) (1.20.4)\n",
      "Requirement already satisfied: xlwt<2.0.0,>=1.3.0 in /home/ec2-user/anaconda3/envs/tensorflow_p36/lib/python3.6/site-packages (from awswrangler) (1.3.0)\n",
      "Collecting pymysql<1.1.0,>=0.9.0\n",
      "  Downloading PyMySQL-1.0.2-py3-none-any.whl (43 kB)\n",
      "     |████████████████████████████████| 43 kB 5.2 MB/s             \n",
      "\u001b[?25hRequirement already satisfied: numpy<2.0.0,>=1.18.0 in /home/ec2-user/anaconda3/envs/tensorflow_p36/lib/python3.6/site-packages (from awswrangler) (1.19.5)\n",
      "Collecting pg8000<1.22.0,>=1.16.0\n",
      "  Downloading pg8000-1.21.3-py3-none-any.whl (34 kB)\n",
      "Requirement already satisfied: botocore<2.0.0,>=1.19.8 in /home/ec2-user/anaconda3/envs/tensorflow_p36/lib/python3.6/site-packages (from awswrangler) (1.23.4)\n",
      "Collecting redshift-connector<2.1.0,>=2.0.887\n",
      "  Downloading redshift_connector-2.0.900-py3-none-any.whl (94 kB)\n",
      "     |████████████████████████████████| 94 kB 8.2 MB/s              \n",
      "\u001b[?25hRequirement already satisfied: openpyxl<3.1.0,>=3.0.0 in /home/ec2-user/anaconda3/envs/tensorflow_p36/lib/python3.6/site-packages (from awswrangler) (3.0.6)\n",
      "Collecting opensearch-py<2.0.0,>=1.0.0\n",
      "  Downloading opensearch_py-1.0.0-py2.py3-none-any.whl (207 kB)\n",
      "     |████████████████████████████████| 207 kB 55.2 MB/s            \n",
      "\u001b[?25hRequirement already satisfied: s3transfer<0.6.0,>=0.5.0 in /home/ec2-user/anaconda3/envs/tensorflow_p36/lib/python3.6/site-packages (from boto3<2.0.0,>=1.16.8->awswrangler) (0.5.0)\n",
      "Requirement already satisfied: jmespath<1.0.0,>=0.7.1 in /home/ec2-user/anaconda3/envs/tensorflow_p36/lib/python3.6/site-packages (from boto3<2.0.0,>=1.16.8->awswrangler) (0.10.0)\n",
      "Requirement already satisfied: python-dateutil<3.0.0,>=2.1 in /home/ec2-user/anaconda3/envs/tensorflow_p36/lib/python3.6/site-packages (from botocore<2.0.0,>=1.19.8->awswrangler) (2.8.2)\n",
      "Requirement already satisfied: urllib3<1.27,>=1.25.4 in /home/ec2-user/anaconda3/envs/tensorflow_p36/lib/python3.6/site-packages (from botocore<2.0.0,>=1.19.8->awswrangler) (1.26.7)\n",
      "Requirement already satisfied: six in /home/ec2-user/anaconda3/envs/tensorflow_p36/lib/python3.6/site-packages (from jsonpath-ng<2.0.0,>=1.5.3->awswrangler) (1.16.0)\n",
      "Requirement already satisfied: ply in /home/ec2-user/anaconda3/envs/tensorflow_p36/lib/python3.6/site-packages (from jsonpath-ng<2.0.0,>=1.5.3->awswrangler) (3.11)\n",
      "Requirement already satisfied: decorator in /home/ec2-user/anaconda3/envs/tensorflow_p36/lib/python3.6/site-packages (from jsonpath-ng<2.0.0,>=1.5.3->awswrangler) (4.4.2)\n",
      "Requirement already satisfied: jdcal in /home/ec2-user/anaconda3/envs/tensorflow_p36/lib/python3.6/site-packages (from openpyxl<3.1.0,>=3.0.0->awswrangler) (1.4.1)\n",
      "Requirement already satisfied: et-xmlfile in /home/ec2-user/anaconda3/envs/tensorflow_p36/lib/python3.6/site-packages (from openpyxl<3.1.0,>=3.0.0->awswrangler) (1.0.1)\n",
      "Requirement already satisfied: certifi in /home/ec2-user/anaconda3/envs/tensorflow_p36/lib/python3.6/site-packages (from opensearch-py<2.0.0,>=1.0.0->awswrangler) (2021.10.8)\n",
      "Requirement already satisfied: pytz>=2017.2 in /home/ec2-user/anaconda3/envs/tensorflow_p36/lib/python3.6/site-packages (from pandas<1.2.0,>=1.1.0->awswrangler) (2021.3)\n",
      "Collecting scramp>=1.4.1\n",
      "  Downloading scramp-1.4.1-py3-none-any.whl (8.5 kB)\n",
      "Collecting python-utils>=2.3.0\n",
      "  Downloading python_utils-2.5.6-py2.py3-none-any.whl (12 kB)\n",
      "Requirement already satisfied: lxml>=4.6.2 in /home/ec2-user/anaconda3/envs/tensorflow_p36/lib/python3.6/site-packages (from redshift-connector<2.1.0,>=2.0.887->awswrangler) (4.6.3)\n",
      "Requirement already satisfied: beautifulsoup4<5.0.0,>=4.7.0 in /home/ec2-user/anaconda3/envs/tensorflow_p36/lib/python3.6/site-packages (from redshift-connector<2.1.0,>=2.0.887->awswrangler) (4.9.3)\n",
      "Requirement already satisfied: packaging in /home/ec2-user/anaconda3/envs/tensorflow_p36/lib/python3.6/site-packages (from redshift-connector<2.1.0,>=2.0.887->awswrangler) (21.2)\n",
      "Requirement already satisfied: requests<2.26.1,>=2.23.0 in /home/ec2-user/anaconda3/envs/tensorflow_p36/lib/python3.6/site-packages (from redshift-connector<2.1.0,>=2.0.887->awswrangler) (2.26.0)\n",
      "Requirement already satisfied: soupsieve>1.2 in /home/ec2-user/anaconda3/envs/tensorflow_p36/lib/python3.6/site-packages (from beautifulsoup4<5.0.0,>=4.7.0->redshift-connector<2.1.0,>=2.0.887->awswrangler) (2.0.1)\n",
      "Requirement already satisfied: charset-normalizer~=2.0.0 in /home/ec2-user/anaconda3/envs/tensorflow_p36/lib/python3.6/site-packages (from requests<2.26.1,>=2.23.0->redshift-connector<2.1.0,>=2.0.887->awswrangler) (2.0.7)\n",
      "Requirement already satisfied: idna<4,>=2.5 in /home/ec2-user/anaconda3/envs/tensorflow_p36/lib/python3.6/site-packages (from requests<2.26.1,>=2.23.0->redshift-connector<2.1.0,>=2.0.887->awswrangler) (3.3)\n",
      "Requirement already satisfied: asn1crypto>=1.4.0 in /home/ec2-user/anaconda3/envs/tensorflow_p36/lib/python3.6/site-packages (from scramp>=1.4.1->pg8000<1.22.0,>=1.16.0->awswrangler) (1.4.0)\n",
      "Requirement already satisfied: pyparsing<3,>=2.0.2 in /home/ec2-user/anaconda3/envs/tensorflow_p36/lib/python3.6/site-packages (from packaging->redshift-connector<2.1.0,>=2.0.887->awswrangler) (2.4.7)\n",
      "Installing collected packages: scramp, python-utils, requests-aws4auth, redshift-connector, pymysql, progressbar2, pg8000, opensearch-py, jsonpath-ng, awswrangler\n",
      "Successfully installed awswrangler-2.12.1 jsonpath-ng-1.5.3 opensearch-py-1.0.0 pg8000-1.21.3 progressbar2-3.55.0 pymysql-1.0.2 python-utils-2.5.6 redshift-connector-2.0.900 requests-aws4auth-1.1.1 scramp-1.4.1\n"
     ]
    }
   ],
   "source": [
    "#%%capture\n",
    "!pip install -U pip setuptools wheel\n",
    "!pip install -U spacy\n",
    "!python -m spacy download en_core_web_sm\n",
    "!python -m spacy download en\n",
    "!pip install gensim\n",
    "!pip install awswrangler"
   ]
  },
  {
   "cell_type": "markdown",
   "metadata": {
    "id": "lFbRq-e--WXR"
   },
   "source": [
    "## TF IDF"
   ]
  },
  {
   "cell_type": "code",
   "execution_count": 2,
   "metadata": {
    "executionInfo": {
     "elapsed": 359,
     "status": "ok",
     "timestamp": 1638230063291,
     "user": {
      "displayName": "Paulo Finardi",
      "photoUrl": "https://lh3.googleusercontent.com/a-/AOh14GiAQBvHNU6heWBW3WY6Lp0SmL_8gxcTOREX09z23XI=s64",
      "userId": "15172685182696010276"
     },
     "user_tz": 180
    },
    "id": "b-mTJYEjefw9"
   },
   "outputs": [],
   "source": [
    "import numpy as np"
   ]
  },
  {
   "cell_type": "code",
   "execution_count": 3,
   "metadata": {
    "executionInfo": {
     "elapsed": 3,
     "status": "ok",
     "timestamp": 1638230063629,
     "user": {
      "displayName": "Paulo Finardi",
      "photoUrl": "https://lh3.googleusercontent.com/a-/AOh14GiAQBvHNU6heWBW3WY6Lp0SmL_8gxcTOREX09z23XI=s64",
      "userId": "15172685182696010276"
     },
     "user_tz": 180
    },
    "id": "qxCQuu3YeN_Y"
   },
   "outputs": [],
   "source": [
    "a = \"Essa é a primeira sentença\".split()\n",
    "b = \"Aqui é a segunda sentença\".split()\n",
    "c = \"E, por fim a última frase\".split()"
   ]
  },
  {
   "cell_type": "code",
   "execution_count": 4,
   "metadata": {
    "colab": {
     "base_uri": "https://localhost:8080/"
    },
    "executionInfo": {
     "elapsed": 318,
     "status": "ok",
     "timestamp": 1638230240999,
     "user": {
      "displayName": "Paulo Finardi",
      "photoUrl": "https://lh3.googleusercontent.com/a-/AOh14GiAQBvHNU6heWBW3WY6Lp0SmL_8gxcTOREX09z23XI=s64",
      "userId": "15172685182696010276"
     },
     "user_tz": 180
    },
    "id": "GedUn-TfeTyW",
    "outputId": "cf76d9f9-f8a8-48d0-aca7-9ff798ba2685"
   },
   "outputs": [
    {
     "name": "stdout",
     "output_type": "stream",
     "text": [
      "TFIDF(a)\n",
      "TF-IDF a: 0.0\n",
      "TF-IDF b: 0.0\n",
      "TF-IDF c: 0.0\n",
      "\n",
      "TFIDF(segunda)\n",
      "TF-IDF a: 0.0\n",
      "TF-IDF b: 0.0954\n",
      "TF-IDF c: 0.0\n",
      "\n"
     ]
    }
   ],
   "source": [
    "def tfidf(word):\n",
    "    tf = []\n",
    "    count_n = 0\n",
    "    for sentence in [a, b, c]:\n",
    "        # calculate TF\n",
    "        t_count = len([x for x in sentence if x == word])\n",
    "        tf.append(t_count/len(sentence))\n",
    "        # count number of docs for IDF\n",
    "        count_n += 1 if word in sentence else 0\n",
    "    idf = np.log10(len([a, b, c]) / count_n)\n",
    "    return [round(_tf*idf, 4) for _tf in tf]\n",
    "\n",
    "# -------------------\n",
    "word = 'a'\n",
    "tfidf_a, tfidf_b, tfidf_c = tfidf(word)\n",
    "print(f'TFIDF({word})')\n",
    "print(f\"TF-IDF a: {tfidf_a}\\nTF-IDF b: {tfidf_b}\\nTF-IDF c: {tfidf_c}\\n\")    \n",
    "\n",
    "# -------------------\n",
    "word = 'segunda'\n",
    "tfidf_a, tfidf_b, tfidf_c = tfidf(word)\n",
    "print(f'TFIDF({word})')\n",
    "print(f\"TF-IDF a: {tfidf_a}\\nTF-IDF b: {tfidf_b}\\nTF-IDF c: {tfidf_c}\\n\")"
   ]
  },
  {
   "cell_type": "code",
   "execution_count": 5,
   "metadata": {
    "colab": {
     "base_uri": "https://localhost:8080/"
    },
    "executionInfo": {
     "elapsed": 324,
     "status": "ok",
     "timestamp": 1638230273761,
     "user": {
      "displayName": "Paulo Finardi",
      "photoUrl": "https://lh3.googleusercontent.com/a-/AOh14GiAQBvHNU6heWBW3WY6Lp0SmL_8gxcTOREX09z23XI=s64",
      "userId": "15172685182696010276"
     },
     "user_tz": 180
    },
    "id": "8Ai4MifSe2rG",
    "outputId": "0c628873-3e5f-4590-df9d-27a196a79a62"
   },
   "outputs": [
    {
     "name": "stdout",
     "output_type": "stream",
     "text": [
      "{'frase', 'sentença', 'Aqui', 'segunda', 'última', 'fim', 'Essa', 'por', 'E,', 'a', 'primeira', 'é'}\n"
     ]
    }
   ],
   "source": [
    "vocab = set(a+b+c)\n",
    "print(vocab)"
   ]
  },
  {
   "cell_type": "code",
   "execution_count": 6,
   "metadata": {
    "executionInfo": {
     "elapsed": 358,
     "status": "ok",
     "timestamp": 1638230280398,
     "user": {
      "displayName": "Paulo Finardi",
      "photoUrl": "https://lh3.googleusercontent.com/a-/AOh14GiAQBvHNU6heWBW3WY6Lp0SmL_8gxcTOREX09z23XI=s64",
      "userId": "15172685182696010276"
     },
     "user_tz": 180
    },
    "id": "bVZIVBZZIh0D"
   },
   "outputs": [],
   "source": [
    "# initialize vectors\n",
    "vec_a = []\n",
    "vec_b = []\n",
    "vec_c = []\n",
    "\n",
    "for word in vocab:\n",
    "    tfidf_a, tfidf_b, tfidf_c = tfidf(word)\n",
    "    vec_a.append(tfidf_a)\n",
    "    vec_b.append(tfidf_b)\n",
    "    vec_c.append(tfidf_c)"
   ]
  },
  {
   "cell_type": "code",
   "execution_count": 7,
   "metadata": {
    "colab": {
     "base_uri": "https://localhost:8080/"
    },
    "executionInfo": {
     "elapsed": 307,
     "status": "ok",
     "timestamp": 1638230282321,
     "user": {
      "displayName": "Paulo Finardi",
      "photoUrl": "https://lh3.googleusercontent.com/a-/AOh14GiAQBvHNU6heWBW3WY6Lp0SmL_8gxcTOREX09z23XI=s64",
      "userId": "15172685182696010276"
     },
     "user_tz": 180
    },
    "id": "YYnZu0QHjgSs",
    "outputId": "72301bf3-fb48-42f5-a288-2c65a04a7520"
   },
   "outputs": [
    {
     "name": "stdout",
     "output_type": "stream",
     "text": [
      "[0.0, 0.0352, 0.0, 0.0, 0.0, 0.0, 0.0954, 0.0, 0.0, 0.0, 0.0954, 0.0352]\n"
     ]
    }
   ],
   "source": [
    "print(vec_a)"
   ]
  },
  {
   "cell_type": "code",
   "execution_count": 8,
   "metadata": {
    "colab": {
     "base_uri": "https://localhost:8080/"
    },
    "executionInfo": {
     "elapsed": 319,
     "status": "ok",
     "timestamp": 1638230289548,
     "user": {
      "displayName": "Paulo Finardi",
      "photoUrl": "https://lh3.googleusercontent.com/a-/AOh14GiAQBvHNU6heWBW3WY6Lp0SmL_8gxcTOREX09z23XI=s64",
      "userId": "15172685182696010276"
     },
     "user_tz": 180
    },
    "id": "1yxqRzknlM0X",
    "outputId": "68c6d93d-2d86-4582-a354-ecca2ca841f3"
   },
   "outputs": [
    {
     "name": "stdout",
     "output_type": "stream",
     "text": [
      "[0.0, 0.0352, 0.0954, 0.0954, 0.0, 0.0, 0.0, 0.0, 0.0, 0.0, 0.0, 0.0352]\n"
     ]
    }
   ],
   "source": [
    "print(vec_b)"
   ]
  },
  {
   "cell_type": "code",
   "execution_count": 9,
   "metadata": {
    "colab": {
     "base_uri": "https://localhost:8080/"
    },
    "executionInfo": {
     "elapsed": 306,
     "status": "ok",
     "timestamp": 1638230294920,
     "user": {
      "displayName": "Paulo Finardi",
      "photoUrl": "https://lh3.googleusercontent.com/a-/AOh14GiAQBvHNU6heWBW3WY6Lp0SmL_8gxcTOREX09z23XI=s64",
      "userId": "15172685182696010276"
     },
     "user_tz": 180
    },
    "id": "COfAuGy3lxay",
    "outputId": "3d4b5f68-9e18-4915-d638-ea52f46a12db"
   },
   "outputs": [
    {
     "name": "stdout",
     "output_type": "stream",
     "text": [
      "[0.0795, 0.0, 0.0, 0.0, 0.0795, 0.0795, 0.0, 0.0795, 0.0795, 0.0, 0.0, 0.0]\n"
     ]
    }
   ],
   "source": [
    "print(vec_c)"
   ]
  },
  {
   "cell_type": "markdown",
   "metadata": {
    "id": "MWnJOIJBItua"
   },
   "source": [
    "## Similaridade tf-idf versus one hot"
   ]
  },
  {
   "cell_type": "code",
   "execution_count": 10,
   "metadata": {
    "executionInfo": {
     "elapsed": 295,
     "status": "ok",
     "timestamp": 1638230356666,
     "user": {
      "displayName": "Paulo Finardi",
      "photoUrl": "https://lh3.googleusercontent.com/a-/AOh14GiAQBvHNU6heWBW3WY6Lp0SmL_8gxcTOREX09z23XI=s64",
      "userId": "15172685182696010276"
     },
     "user_tz": 180
    },
    "id": "n1hRoCxQKeL0"
   },
   "outputs": [],
   "source": [
    "# a) Essa é a primeira sentença\n",
    "# b) Aqui é a segunda sentença \n",
    "# c) E, por fim a última frase\n",
    "\n",
    "# Vocabulario\n",
    "#                'Aqui', 'E,',  'Essa',  'a',  'fim',    'frase',   'por',  'primeira',  'segunda',  'sentença',  'é',  'última'\n",
    "bow_a = np.array([0,      0,       1,     1,     0,         0,        0,         1,          0,          1,        1,       0])\n",
    "bow_b = np.array([1,      0,       0,     1,     0,         0,        0,         0,          1,          1,        1,       0])\n",
    "bow_c = np.array([0,      1,       0,     1,     1,         1,        1,         0,          0,          0,        0,       1])"
   ]
  },
  {
   "cell_type": "code",
   "execution_count": 11,
   "metadata": {
    "colab": {
     "base_uri": "https://localhost:8080/"
    },
    "executionInfo": {
     "elapsed": 5,
     "status": "ok",
     "timestamp": 1638230356973,
     "user": {
      "displayName": "Paulo Finardi",
      "photoUrl": "https://lh3.googleusercontent.com/a-/AOh14GiAQBvHNU6heWBW3WY6Lp0SmL_8gxcTOREX09z23XI=s64",
      "userId": "15172685182696010276"
     },
     "user_tz": 180
    },
    "id": "yKUlrZaWMan_",
    "outputId": "5bc43011-df2a-42fb-eafa-e7198a4e184d"
   },
   "outputs": [
    {
     "name": "stdout",
     "output_type": "stream",
     "text": [
      "similaridade bow vec_a_vec_b: 0.6\n",
      "similaridade bow vec_a_vec_c: 0.183\n",
      "similaridade bow vec_b_vec_c: 0.183\n"
     ]
    }
   ],
   "source": [
    "# Similaridade BoW\n",
    "from scipy.spatial import distance\n",
    "\n",
    "BoW_vec_a_vec_b = 1 - distance.cosine(bow_a, bow_b)\n",
    "BoW_vec_a_vec_c = 1 - distance.cosine(bow_a, bow_c)\n",
    "BoW_vec_b_vec_c = 1 - distance.cosine(bow_b, bow_c)\n",
    "\n",
    "print(f'similaridade bow vec_a_vec_b: {BoW_vec_a_vec_b :.3}')\n",
    "print(f'similaridade bow vec_a_vec_c: {BoW_vec_a_vec_c :.3}')\n",
    "print(f'similaridade bow vec_b_vec_c: {BoW_vec_b_vec_c :.3}')"
   ]
  },
  {
   "cell_type": "code",
   "execution_count": 12,
   "metadata": {
    "colab": {
     "base_uri": "https://localhost:8080/"
    },
    "executionInfo": {
     "elapsed": 354,
     "status": "ok",
     "timestamp": 1638230395200,
     "user": {
      "displayName": "Paulo Finardi",
      "photoUrl": "https://lh3.googleusercontent.com/a-/AOh14GiAQBvHNU6heWBW3WY6Lp0SmL_8gxcTOREX09z23XI=s64",
      "userId": "15172685182696010276"
     },
     "user_tz": 180
    },
    "id": "Gj7Q_EpNHv4p",
    "outputId": "89bc119e-e7f4-41c7-8b80-2d9172c551df"
   },
   "outputs": [
    {
     "name": "stdout",
     "output_type": "stream",
     "text": [
      "similaridade tf-idf vec_a_vec_b: 0.12\n",
      "similaridade tf-idf vec_a_vec_c: 0.0\n",
      "similaridade tf-idf vec_b_vec_c: 0.0\n"
     ]
    }
   ],
   "source": [
    "# Similaridade tf-idf\n",
    "\n",
    "sim_vec_a_vec_b = 1 - distance.cosine(np.array(vec_a), np.array(vec_b))\n",
    "sim_vec_a_vec_c = 1 - distance.cosine(np.array(vec_a), np.array(vec_c))\n",
    "sim_vec_b_vec_c = 1 - distance.cosine(np.array(vec_b), np.array(vec_c))\n",
    "\n",
    "print(f'similaridade tf-idf vec_a_vec_b: {sim_vec_a_vec_b :.3}')\n",
    "print(f'similaridade tf-idf vec_a_vec_c: {sim_vec_a_vec_c :.3}')\n",
    "print(f'similaridade tf-idf vec_b_vec_c: {sim_vec_b_vec_c :.3}')"
   ]
  },
  {
   "cell_type": "markdown",
   "metadata": {
    "colab": {
     "base_uri": "https://localhost:8080/",
     "height": 53
    },
    "executionInfo": {
     "elapsed": 8,
     "status": "ok",
     "timestamp": 1638133408174,
     "user": {
      "displayName": "Paulo Finardi",
      "photoUrl": "https://lh3.googleusercontent.com/a-/AOh14GiAQBvHNU6heWBW3WY6Lp0SmL_8gxcTOREX09z23XI=s64",
      "userId": "15172685182696010276"
     },
     "user_tz": 180
    },
    "id": "2mAGtxKEl8_r",
    "outputId": "771aedc4-99fb-48d8-a60b-4f3cdb4e0c8f"
   },
   "source": [
    "É importante notar que os tamanhos de vocabulário podem facilmente estar na faixa de > 20K, \n",
    "então os vetores produzidos usando este método são incrivelmente esparsos - o que significa \n",
    "que não podemos codificar qualquer significado semântico."
   ]
  },
  {
   "cell_type": "markdown",
   "metadata": {
    "id": "K9odWVkl-Y7G"
   },
   "source": [
    "## Word2Vec\n",
    "\n",
    "> #### [fonte do dataset](https://www.kaggle.com/ambarish/fun-in-text-mining-with-simpsons/data?select=simpsons_script_lines.csv) \n",
    "> #### [fonte do código](https://www.kaggle.com/pierremegret/gensim-word2vec-tutorial)\n",
    "> #### [word2vec introdution](http://mccormickml.com/2016/04/19/word2vec-tutorial-the-skip-gram-model/)\n",
    "> #### [word2vec artigo](https://arxiv.org/abs/1301.3781)"
   ]
  },
  {
   "cell_type": "code",
   "execution_count": 13,
   "metadata": {
    "colab": {
     "base_uri": "https://localhost:8080/",
     "height": 423
    },
    "executionInfo": {
     "elapsed": 2087,
     "status": "ok",
     "timestamp": 1638231050852,
     "user": {
      "displayName": "Paulo Finardi",
      "photoUrl": "https://lh3.googleusercontent.com/a-/AOh14GiAQBvHNU6heWBW3WY6Lp0SmL_8gxcTOREX09z23XI=s64",
      "userId": "15172685182696010276"
     },
     "user_tz": 180
    },
    "id": "3GQb6HwFmbtK",
    "outputId": "341602eb-3f6b-4918-ac92-f404191345ce"
   },
   "outputs": [
    {
     "data": {
      "text/html": [
       "<div>\n",
       "<style scoped>\n",
       "    .dataframe tbody tr th:only-of-type {\n",
       "        vertical-align: middle;\n",
       "    }\n",
       "\n",
       "    .dataframe tbody tr th {\n",
       "        vertical-align: top;\n",
       "    }\n",
       "\n",
       "    .dataframe thead th {\n",
       "        text-align: right;\n",
       "    }\n",
       "</style>\n",
       "<table border=\"1\" class=\"dataframe\">\n",
       "  <thead>\n",
       "    <tr style=\"text-align: right;\">\n",
       "      <th></th>\n",
       "      <th>raw_character_text</th>\n",
       "      <th>spoken_words</th>\n",
       "    </tr>\n",
       "  </thead>\n",
       "  <tbody>\n",
       "    <tr>\n",
       "      <th>0</th>\n",
       "      <td>Miss Hoover</td>\n",
       "      <td>No, actually, it was a little of both. Sometim...</td>\n",
       "    </tr>\n",
       "    <tr>\n",
       "      <th>1</th>\n",
       "      <td>Lisa Simpson</td>\n",
       "      <td>Where's Mr. Bergstrom?</td>\n",
       "    </tr>\n",
       "    <tr>\n",
       "      <th>2</th>\n",
       "      <td>Miss Hoover</td>\n",
       "      <td>I don't know. Although I'd sure like to talk t...</td>\n",
       "    </tr>\n",
       "    <tr>\n",
       "      <th>3</th>\n",
       "      <td>Lisa Simpson</td>\n",
       "      <td>That life is worth living.</td>\n",
       "    </tr>\n",
       "    <tr>\n",
       "      <th>4</th>\n",
       "      <td>Edna Krabappel-Flanders</td>\n",
       "      <td>The polls will be open from now until the end ...</td>\n",
       "    </tr>\n",
       "    <tr>\n",
       "      <th>...</th>\n",
       "      <td>...</td>\n",
       "      <td>...</td>\n",
       "    </tr>\n",
       "    <tr>\n",
       "      <th>132105</th>\n",
       "      <td>Miss Hoover</td>\n",
       "      <td>I'm back.</td>\n",
       "    </tr>\n",
       "    <tr>\n",
       "      <th>132106</th>\n",
       "      <td>Miss Hoover</td>\n",
       "      <td>You see, class, my Lyme disease turned out to ...</td>\n",
       "    </tr>\n",
       "    <tr>\n",
       "      <th>132107</th>\n",
       "      <td>Miss Hoover</td>\n",
       "      <td>Psy-cho-so-ma-tic.</td>\n",
       "    </tr>\n",
       "    <tr>\n",
       "      <th>132108</th>\n",
       "      <td>Ralph Wiggum</td>\n",
       "      <td>Does that mean you were crazy?</td>\n",
       "    </tr>\n",
       "    <tr>\n",
       "      <th>132109</th>\n",
       "      <td>JANEY</td>\n",
       "      <td>No, that means she was faking it.</td>\n",
       "    </tr>\n",
       "  </tbody>\n",
       "</table>\n",
       "<p>132110 rows × 2 columns</p>\n",
       "</div>"
      ],
      "text/plain": [
       "             raw_character_text  \\\n",
       "0                   Miss Hoover   \n",
       "1                  Lisa Simpson   \n",
       "2                   Miss Hoover   \n",
       "3                  Lisa Simpson   \n",
       "4       Edna Krabappel-Flanders   \n",
       "...                         ...   \n",
       "132105              Miss Hoover   \n",
       "132106              Miss Hoover   \n",
       "132107              Miss Hoover   \n",
       "132108             Ralph Wiggum   \n",
       "132109                    JANEY   \n",
       "\n",
       "                                             spoken_words  \n",
       "0       No, actually, it was a little of both. Sometim...  \n",
       "1                                  Where's Mr. Bergstrom?  \n",
       "2       I don't know. Although I'd sure like to talk t...  \n",
       "3                              That life is worth living.  \n",
       "4       The polls will be open from now until the end ...  \n",
       "...                                                   ...  \n",
       "132105                                          I'm back.  \n",
       "132106  You see, class, my Lyme disease turned out to ...  \n",
       "132107                                 Psy-cho-so-ma-tic.  \n",
       "132108                     Does that mean you were crazy?  \n",
       "132109                  No, that means she was faking it.  \n",
       "\n",
       "[132110 rows x 2 columns]"
      ]
     },
     "execution_count": 13,
     "metadata": {},
     "output_type": "execute_result"
    }
   ],
   "source": [
    "import pandas as pd\n",
    "\n",
    "df = pd.read_csv('./simpsons_processed.csv', index_col=0)\n",
    "df"
   ]
  },
  {
   "cell_type": "code",
   "execution_count": 14,
   "metadata": {
    "colab": {
     "base_uri": "https://localhost:8080/",
     "height": 35
    },
    "executionInfo": {
     "elapsed": 366,
     "status": "ok",
     "timestamp": 1638231122125,
     "user": {
      "displayName": "Paulo Finardi",
      "photoUrl": "https://lh3.googleusercontent.com/a-/AOh14GiAQBvHNU6heWBW3WY6Lp0SmL_8gxcTOREX09z23XI=s64",
      "userId": "15172685182696010276"
     },
     "user_tz": 180
    },
    "id": "PndxL4PefgF7",
    "outputId": "daf717c2-9951-49cc-e212-781e45b13de0"
   },
   "outputs": [
    {
     "data": {
      "text/plain": [
       "'That life is worth living.'"
      ]
     },
     "execution_count": 14,
     "metadata": {},
     "output_type": "execute_result"
    }
   ],
   "source": [
    "df.spoken_words.to_list()[3] "
   ]
  },
  {
   "cell_type": "code",
   "execution_count": 15,
   "metadata": {
    "executionInfo": {
     "elapsed": 821,
     "status": "ok",
     "timestamp": 1638231147680,
     "user": {
      "displayName": "Paulo Finardi",
      "photoUrl": "https://lh3.googleusercontent.com/a-/AOh14GiAQBvHNU6heWBW3WY6Lp0SmL_8gxcTOREX09z23XI=s64",
      "userId": "15172685182696010276"
     },
     "user_tz": 180
    },
    "id": "IqMc4DHj_n2b"
   },
   "outputs": [
    {
     "name": "stdout",
     "output_type": "stream",
     "text": [
      "WARNING:tensorflow:From /home/ec2-user/anaconda3/envs/tensorflow_p36/cpu/lib/python3.6/site-packages/tensorflow_core/__init__.py:1473: The name tf.estimator.inputs is deprecated. Please use tf.compat.v1.estimator.inputs instead.\n",
      "\n"
     ]
    }
   ],
   "source": [
    "import re  # For preprocessing\n",
    "from time import time  # To time our operations\n",
    "from collections import defaultdict  # For word frequency\n",
    "\n",
    "import spacy  # For preprocessing\n",
    "\n",
    "import logging  # Setting up the loggings to monitor gensim\n",
    "logging.basicConfig(format=\"%(levelname)s - %(asctime)s: %(message)s\", datefmt= '%H:%M:%S', level=logging.INFO)"
   ]
  },
  {
   "cell_type": "code",
   "execution_count": 16,
   "metadata": {
    "executionInfo": {
     "elapsed": 314,
     "status": "ok",
     "timestamp": 1638231236298,
     "user": {
      "displayName": "Paulo Finardi",
      "photoUrl": "https://lh3.googleusercontent.com/a-/AOh14GiAQBvHNU6heWBW3WY6Lp0SmL_8gxcTOREX09z23XI=s64",
      "userId": "15172685182696010276"
     },
     "user_tz": 180
    },
    "id": "9vV2gALf_n0b"
   },
   "outputs": [],
   "source": [
    "def cleaning(doc):\n",
    "    # Lemmatizes and removes stopwords\n",
    "    # doc needs to be a spacy Doc object\n",
    "    txt = [token.lemma_ for token in doc if not token.is_stop]\n",
    "    # Word2Vec uses context words to learn the vector representation of a target word,\n",
    "    # if a sentence is only one or two words long,\n",
    "    # the benefit for the training is very small\n",
    "    if len(txt) > 2:\n",
    "        return ' '.join(txt)"
   ]
  },
  {
   "cell_type": "code",
   "execution_count": 17,
   "metadata": {
    "executionInfo": {
     "elapsed": 4,
     "status": "ok",
     "timestamp": 1638231236648,
     "user": {
      "displayName": "Paulo Finardi",
      "photoUrl": "https://lh3.googleusercontent.com/a-/AOh14GiAQBvHNU6heWBW3WY6Lp0SmL_8gxcTOREX09z23XI=s64",
      "userId": "15172685182696010276"
     },
     "user_tz": 180
    },
    "id": "8c0uik5E_nxW"
   },
   "outputs": [],
   "source": [
    "# Regex \n",
    "brief_cleaning = (re.sub(\"[^A-Za-z']+\", ' ', str(row)).lower() for row in df['spoken_words'])"
   ]
  },
  {
   "cell_type": "code",
   "execution_count": 18,
   "metadata": {
    "colab": {
     "base_uri": "https://localhost:8080/"
    },
    "executionInfo": {
     "elapsed": 67901,
     "status": "ok",
     "timestamp": 1638231305380,
     "user": {
      "displayName": "Paulo Finardi",
      "photoUrl": "https://lh3.googleusercontent.com/a-/AOh14GiAQBvHNU6heWBW3WY6Lp0SmL_8gxcTOREX09z23XI=s64",
      "userId": "15172685182696010276"
     },
     "user_tz": 180
    },
    "id": "xHXfiUA5_7Wu",
    "outputId": "a1eab509-e756-42ad-81d4-be19575cb139"
   },
   "outputs": [
    {
     "name": "stdout",
     "output_type": "stream",
     "text": [
      "Time to clean up everything: 1.01 mins\n"
     ]
    }
   ],
   "source": [
    "t = time()\n",
    "\n",
    "nlp = spacy.load(\"en_core_web_sm\", disable=['ner', 'parser']) # disabling Named Entity Recognition for speed\n",
    "\n",
    "txt = [cleaning(doc) for doc in nlp.pipe(brief_cleaning, batch_size=5000, n_process=-1)]\n",
    "\n",
    "print(f'Time to clean up everything: {round((time() - t)/60, 2)} mins')"
   ]
  },
  {
   "cell_type": "code",
   "execution_count": 19,
   "metadata": {
    "colab": {
     "base_uri": "https://localhost:8080/"
    },
    "executionInfo": {
     "elapsed": 10,
     "status": "ok",
     "timestamp": 1638231306261,
     "user": {
      "displayName": "Paulo Finardi",
      "photoUrl": "https://lh3.googleusercontent.com/a-/AOh14GiAQBvHNU6heWBW3WY6Lp0SmL_8gxcTOREX09z23XI=s64",
      "userId": "15172685182696010276"
     },
     "user_tz": 180
    },
    "id": "VpdKer7B_nvC",
    "outputId": "7c5a5ab2-d176-46f9-ddf5-241457130222"
   },
   "outputs": [
    {
     "name": "stderr",
     "output_type": "stream",
     "text": [
      "INFO - 03:58:46: Note: NumExpr detected 16 cores but \"NUMEXPR_MAX_THREADS\" not set, so enforcing safe limit of 8.\n"
     ]
    },
    {
     "data": {
      "text/plain": [
       "(86207, 1)"
      ]
     },
     "execution_count": 19,
     "metadata": {},
     "output_type": "execute_result"
    }
   ],
   "source": [
    "df_clean = pd.DataFrame({'clean': txt})\n",
    "df_clean = df_clean.dropna().drop_duplicates()\n",
    "df_clean.shape"
   ]
  },
  {
   "cell_type": "code",
   "execution_count": 20,
   "metadata": {
    "colab": {
     "base_uri": "https://localhost:8080/",
     "height": 423
    },
    "executionInfo": {
     "elapsed": 369,
     "status": "ok",
     "timestamp": 1638231306625,
     "user": {
      "displayName": "Paulo Finardi",
      "photoUrl": "https://lh3.googleusercontent.com/a-/AOh14GiAQBvHNU6heWBW3WY6Lp0SmL_8gxcTOREX09z23XI=s64",
      "userId": "15172685182696010276"
     },
     "user_tz": 180
    },
    "id": "dJjyOmCDBw4S",
    "outputId": "3b72d148-1a21-4d31-87d7-9c0f749a0b9f"
   },
   "outputs": [
    {
     "data": {
      "text/html": [
       "<div>\n",
       "<style scoped>\n",
       "    .dataframe tbody tr th:only-of-type {\n",
       "        vertical-align: middle;\n",
       "    }\n",
       "\n",
       "    .dataframe tbody tr th {\n",
       "        vertical-align: top;\n",
       "    }\n",
       "\n",
       "    .dataframe thead th {\n",
       "        text-align: right;\n",
       "    }\n",
       "</style>\n",
       "<table border=\"1\" class=\"dataframe\">\n",
       "  <thead>\n",
       "    <tr style=\"text-align: right;\">\n",
       "      <th></th>\n",
       "      <th>clean</th>\n",
       "    </tr>\n",
       "  </thead>\n",
       "  <tbody>\n",
       "    <tr>\n",
       "      <th>0</th>\n",
       "      <td>actually little disease magazine news show nat...</td>\n",
       "    </tr>\n",
       "    <tr>\n",
       "      <th>2</th>\n",
       "      <td>know sure like talk touch lesson plan teach</td>\n",
       "    </tr>\n",
       "    <tr>\n",
       "      <th>3</th>\n",
       "      <td>life worth live</td>\n",
       "    </tr>\n",
       "    <tr>\n",
       "      <th>4</th>\n",
       "      <td>poll open end recess case decide thought final...</td>\n",
       "    </tr>\n",
       "    <tr>\n",
       "      <th>7</th>\n",
       "      <td>victory party slide</td>\n",
       "    </tr>\n",
       "    <tr>\n",
       "      <th>...</th>\n",
       "      <td>...</td>\n",
       "    </tr>\n",
       "    <tr>\n",
       "      <th>132086</th>\n",
       "      <td>oh mom wonderful find favorite dish help</td>\n",
       "    </tr>\n",
       "    <tr>\n",
       "      <th>132092</th>\n",
       "      <td>dye shoe pink</td>\n",
       "    </tr>\n",
       "    <tr>\n",
       "      <th>132103</th>\n",
       "      <td>mr bergstrom request pleasure company mr bergs...</td>\n",
       "    </tr>\n",
       "    <tr>\n",
       "      <th>132106</th>\n",
       "      <td>class lyme disease turn</td>\n",
       "    </tr>\n",
       "    <tr>\n",
       "      <th>132107</th>\n",
       "      <td>psy cho ma tic</td>\n",
       "    </tr>\n",
       "  </tbody>\n",
       "</table>\n",
       "<p>86207 rows × 1 columns</p>\n",
       "</div>"
      ],
      "text/plain": [
       "                                                    clean\n",
       "0       actually little disease magazine news show nat...\n",
       "2             know sure like talk touch lesson plan teach\n",
       "3                                         life worth live\n",
       "4       poll open end recess case decide thought final...\n",
       "7                                     victory party slide\n",
       "...                                                   ...\n",
       "132086           oh mom wonderful find favorite dish help\n",
       "132092                                      dye shoe pink\n",
       "132103  mr bergstrom request pleasure company mr bergs...\n",
       "132106                            class lyme disease turn\n",
       "132107                                     psy cho ma tic\n",
       "\n",
       "[86207 rows x 1 columns]"
      ]
     },
     "execution_count": 20,
     "metadata": {},
     "output_type": "execute_result"
    }
   ],
   "source": [
    "df_clean"
   ]
  },
  {
   "cell_type": "code",
   "execution_count": 21,
   "metadata": {
    "colab": {
     "base_uri": "https://localhost:8080/"
    },
    "executionInfo": {
     "elapsed": 548,
     "status": "ok",
     "timestamp": 1638231311883,
     "user": {
      "displayName": "Paulo Finardi",
      "photoUrl": "https://lh3.googleusercontent.com/a-/AOh14GiAQBvHNU6heWBW3WY6Lp0SmL_8gxcTOREX09z23XI=s64",
      "userId": "15172685182696010276"
     },
     "user_tz": 180
    },
    "id": "43JXBwr4_nsx",
    "outputId": "a22428e5-5d81-4126-d537-b78df2451da2"
   },
   "outputs": [],
   "source": [
    "from gensim.models.phrases import Phrases, Phraser"
   ]
  },
  {
   "cell_type": "code",
   "execution_count": 22,
   "metadata": {
    "colab": {
     "base_uri": "https://localhost:8080/"
    },
    "executionInfo": {
     "elapsed": 331,
     "status": "ok",
     "timestamp": 1638231314410,
     "user": {
      "displayName": "Paulo Finardi",
      "photoUrl": "https://lh3.googleusercontent.com/a-/AOh14GiAQBvHNU6heWBW3WY6Lp0SmL_8gxcTOREX09z23XI=s64",
      "userId": "15172685182696010276"
     },
     "user_tz": 180
    },
    "id": "vplqhkQl_nqc",
    "outputId": "9d87a223-5a8c-4cfc-87e7-c04dcdbb2931"
   },
   "outputs": [
    {
     "data": {
      "text/plain": [
       "[['actually',\n",
       "  'little',\n",
       "  'disease',\n",
       "  'magazine',\n",
       "  'news',\n",
       "  'show',\n",
       "  'natural',\n",
       "  'think'],\n",
       " ['know', 'sure', 'like', 'talk', 'touch', 'lesson', 'plan', 'teach'],\n",
       " ['life', 'worth', 'live']]"
      ]
     },
     "execution_count": 22,
     "metadata": {},
     "output_type": "execute_result"
    }
   ],
   "source": [
    "# Phrases takes a list of list words\n",
    "sent = [row.split() for row in df_clean['clean']]\n",
    "sent[:3]"
   ]
  },
  {
   "cell_type": "code",
   "execution_count": 23,
   "metadata": {
    "colab": {
     "base_uri": "https://localhost:8080/"
    },
    "executionInfo": {
     "elapsed": 1451,
     "status": "ok",
     "timestamp": 1638231340788,
     "user": {
      "displayName": "Paulo Finardi",
      "photoUrl": "https://lh3.googleusercontent.com/a-/AOh14GiAQBvHNU6heWBW3WY6Lp0SmL_8gxcTOREX09z23XI=s64",
      "userId": "15172685182696010276"
     },
     "user_tz": 180
    },
    "id": "fMJQ7f4v_noj",
    "outputId": "0bd72a32-8846-448a-b2aa-22ad55aa0770"
   },
   "outputs": [
    {
     "name": "stderr",
     "output_type": "stream",
     "text": [
      "INFO - 03:58:46: collecting all words and their counts\n",
      "INFO - 03:58:46: PROGRESS: at sentence #0, processed 0 words and 0 word types\n",
      "INFO - 03:58:46: PROGRESS: at sentence #10000, processed 63781 words and 52974 word types\n",
      "INFO - 03:58:46: PROGRESS: at sentence #20000, processed 131388 words and 100087 word types\n",
      "INFO - 03:58:46: PROGRESS: at sentence #30000, processed 193529 words and 138744 word types\n",
      "INFO - 03:58:46: PROGRESS: at sentence #40000, processed 250538 words and 172822 word types\n",
      "INFO - 03:58:46: PROGRESS: at sentence #50000, processed 311834 words and 208567 word types\n",
      "INFO - 03:58:46: PROGRESS: at sentence #60000, processed 374245 words and 243766 word types\n",
      "INFO - 03:58:46: PROGRESS: at sentence #70000, processed 437105 words and 278729 word types\n",
      "INFO - 03:58:47: PROGRESS: at sentence #80000, processed 498678 words and 311828 word types\n",
      "INFO - 03:58:47: collected 331703 token types (unigram + bigrams) from a corpus of 539804 words and 86207 sentences\n",
      "INFO - 03:58:47: merged Phrases<331703 vocab, min_count=30, threshold=10.0, max_vocab_size=40000000>\n",
      "INFO - 03:58:48: Phrases lifecycle event {'msg': 'built Phrases<331703 vocab, min_count=30, threshold=10.0, max_vocab_size=40000000> in 0.58s', 'datetime': '2021-12-01T03:58:47.083126', 'gensim': '4.1.2', 'python': '3.6.13 | packaged by conda-forge | (default, Feb 19 2021, 05:36:01) \\n[GCC 9.3.0]', 'platform': 'Linux-4.14.248-129.473.amzn1.x86_64-x86_64-with-glibc2.9', 'event': 'created'}\n"
     ]
    }
   ],
   "source": [
    "phrases = Phrases(sent, min_count=30, progress_per=10000)"
   ]
  },
  {
   "cell_type": "code",
   "execution_count": 24,
   "metadata": {
    "colab": {
     "base_uri": "https://localhost:8080/"
    },
    "executionInfo": {
     "elapsed": 4014,
     "status": "ok",
     "timestamp": 1638231369370,
     "user": {
      "displayName": "Paulo Finardi",
      "photoUrl": "https://lh3.googleusercontent.com/a-/AOh14GiAQBvHNU6heWBW3WY6Lp0SmL_8gxcTOREX09z23XI=s64",
      "userId": "15172685182696010276"
     },
     "user_tz": 180
    },
    "id": "2f0cCXdN_nl7",
    "outputId": "4f5be35b-79f9-49d2-a477-229e6bf45288"
   },
   "outputs": [
    {
     "name": "stderr",
     "output_type": "stream",
     "text": [
      "INFO - 03:58:48: exporting phrases from Phrases<331703 vocab, min_count=30, threshold=10.0, max_vocab_size=40000000>\n",
      "INFO - 03:58:48: FrozenPhrases lifecycle event {'msg': 'exported FrozenPhrases<128 phrases, min_count=30, threshold=10.0> from Phrases<331703 vocab, min_count=30, threshold=10.0, max_vocab_size=40000000> in 0.57s', 'datetime': '2021-12-01T03:58:48.583949', 'gensim': '4.1.2', 'python': '3.6.13 | packaged by conda-forge | (default, Feb 19 2021, 05:36:01) \\n[GCC 9.3.0]', 'platform': 'Linux-4.14.248-129.473.amzn1.x86_64-x86_64-with-glibc2.9', 'event': 'created'}\n"
     ]
    }
   ],
   "source": [
    "# The goal of Phraser() is to cut down memory consumption of Phrases()\n",
    "bigram = Phraser(phrases)"
   ]
  },
  {
   "cell_type": "code",
   "execution_count": 25,
   "metadata": {
    "executionInfo": {
     "elapsed": 316,
     "status": "ok",
     "timestamp": 1638231415041,
     "user": {
      "displayName": "Paulo Finardi",
      "photoUrl": "https://lh3.googleusercontent.com/a-/AOh14GiAQBvHNU6heWBW3WY6Lp0SmL_8gxcTOREX09z23XI=s64",
      "userId": "15172685182696010276"
     },
     "user_tz": 180
    },
    "id": "YpHY-NIP_njh"
   },
   "outputs": [],
   "source": [
    "# Transform the corpus based on the bigrams detected:\n",
    "sentences = bigram[sent]"
   ]
  },
  {
   "cell_type": "markdown",
   "metadata": {
    "id": "i45yxcdp_nhe"
   },
   "source": [
    "## Most Frequent Words:\n",
    "> #### Mainly a sanity check of the effectiveness of the lemmatization, removal of stopwords, and addition of bigrams."
   ]
  },
  {
   "cell_type": "code",
   "execution_count": 26,
   "metadata": {
    "colab": {
     "base_uri": "https://localhost:8080/"
    },
    "executionInfo": {
     "elapsed": 2392,
     "status": "ok",
     "timestamp": 1638231427963,
     "user": {
      "displayName": "Paulo Finardi",
      "photoUrl": "https://lh3.googleusercontent.com/a-/AOh14GiAQBvHNU6heWBW3WY6Lp0SmL_8gxcTOREX09z23XI=s64",
      "userId": "15172685182696010276"
     },
     "user_tz": 180
    },
    "id": "NL4MGH7E_nfL",
    "outputId": "cc5de673-dbf5-421b-f0db-99ffa7e43733"
   },
   "outputs": [
    {
     "data": {
      "text/plain": [
       "29723"
      ]
     },
     "execution_count": 26,
     "metadata": {},
     "output_type": "execute_result"
    }
   ],
   "source": [
    "word_freq = defaultdict(int)\n",
    "for sent in sentences:\n",
    "    for i in sent:\n",
    "        word_freq[i] += 1\n",
    "len(word_freq)"
   ]
  },
  {
   "cell_type": "code",
   "execution_count": 27,
   "metadata": {
    "colab": {
     "base_uri": "https://localhost:8080/"
    },
    "executionInfo": {
     "elapsed": 4,
     "status": "ok",
     "timestamp": 1638231428408,
     "user": {
      "displayName": "Paulo Finardi",
      "photoUrl": "https://lh3.googleusercontent.com/a-/AOh14GiAQBvHNU6heWBW3WY6Lp0SmL_8gxcTOREX09z23XI=s64",
      "userId": "15172685182696010276"
     },
     "user_tz": 180
    },
    "id": "L3ec-AJ2_ndA",
    "outputId": "4424574e-0f3f-488a-c9b2-e87c00aadad8"
   },
   "outputs": [
    {
     "data": {
      "text/plain": [
       "['oh', 'like', 'know', 'get', 'hey', 'think', 'come', 'right', 'look', 'want']"
      ]
     },
     "execution_count": 27,
     "metadata": {},
     "output_type": "execute_result"
    }
   ],
   "source": [
    "sorted(word_freq, key=word_freq.get, reverse=True)[:10]"
   ]
  },
  {
   "cell_type": "markdown",
   "metadata": {
    "id": "cubPbhM7CzM5"
   },
   "source": [
    "## Training the model - Gensim Word2Vec Implementation:\n",
    "\n",
    "### The training of the model has 3 steps:\n",
    "\n",
    "> #### 1. `Word2Vec()`: In this first step, we set up the parameters of the model one-by-one.\n",
    "> #### 2.  `build_vocab()`: build the vocabulary from a sequence of sentences and thus initialized the model.\n",
    "> #### 3. `train()`: train the model. The loggings here are mainly useful for monitoring, making sure that no threads are executed instantaneously."
   ]
  },
  {
   "cell_type": "code",
   "execution_count": 28,
   "metadata": {
    "executionInfo": {
     "elapsed": 339,
     "status": "ok",
     "timestamp": 1638231446088,
     "user": {
      "displayName": "Paulo Finardi",
      "photoUrl": "https://lh3.googleusercontent.com/a-/AOh14GiAQBvHNU6heWBW3WY6Lp0SmL_8gxcTOREX09z23XI=s64",
      "userId": "15172685182696010276"
     },
     "user_tz": 180
    },
    "id": "MN8m8A2pDAXx"
   },
   "outputs": [],
   "source": [
    "import os\n",
    "from gensim.models import Word2Vec"
   ]
  },
  {
   "cell_type": "code",
   "execution_count": 29,
   "metadata": {
    "colab": {
     "base_uri": "https://localhost:8080/"
    },
    "executionInfo": {
     "elapsed": 348,
     "status": "ok",
     "timestamp": 1638231456697,
     "user": {
      "displayName": "Paulo Finardi",
      "photoUrl": "https://lh3.googleusercontent.com/a-/AOh14GiAQBvHNU6heWBW3WY6Lp0SmL_8gxcTOREX09z23XI=s64",
      "userId": "15172685182696010276"
     },
     "user_tz": 180
    },
    "id": "Qn4fZ3y_DC5i",
    "outputId": "2f4eda92-c84b-4b11-b7a6-947cae4698e2"
   },
   "outputs": [
    {
     "data": {
      "text/plain": [
       "16"
      ]
     },
     "execution_count": 29,
     "metadata": {},
     "output_type": "execute_result"
    }
   ],
   "source": [
    "cores = os.cpu_count() # Count the number of cores in a computer\n",
    "cores"
   ]
  },
  {
   "cell_type": "code",
   "execution_count": 31,
   "metadata": {
    "executionInfo": {
     "elapsed": 332,
     "status": "ok",
     "timestamp": 1638231494364,
     "user": {
      "displayName": "Paulo Finardi",
      "photoUrl": "https://lh3.googleusercontent.com/a-/AOh14GiAQBvHNU6heWBW3WY6Lp0SmL_8gxcTOREX09z23XI=s64",
      "userId": "15172685182696010276"
     },
     "user_tz": 180
    },
    "id": "inf-uM6aEBpY"
   },
   "outputs": [
    {
     "name": "stderr",
     "output_type": "stream",
     "text": [
      "INFO - 04:00:35: Word2Vec lifecycle event {'params': 'Word2Vec(vocab=0, vector_size=300, alpha=0.03)', 'datetime': '2021-12-01T04:00:35.477116', 'gensim': '4.1.2', 'python': '3.6.13 | packaged by conda-forge | (default, Feb 19 2021, 05:36:01) \\n[GCC 9.3.0]', 'platform': 'Linux-4.14.248-129.473.amzn1.x86_64-x86_64-with-glibc2.9', 'event': 'created'}\n"
     ]
    }
   ],
   "source": [
    "# 1 Word2Vec()\n",
    "w2v_model = Word2Vec(\n",
    "    min_count=20,     # int - Ignores all words with total absolute frequency lower than this - (2, 100)\n",
    "    window=2,         # int - The maximum distance between the current and predicted word within a sentence. \n",
    "    vector_size=300,         # int - Dimensionality of the feature vectors. - (50, 300)\n",
    "    sample=6e-5,      # float - The threshold for configuring which higher-frequency words are randomly downsampled. \n",
    "    alpha=0.03,       # float - The initial learning rate - (0.01, 0.05)\n",
    "    min_alpha=0.0007, # float - Learning rate will linearly drop to min_alpha as training progresses. \n",
    "    negative=20,      # int - If > 0, negative sampling will be used, the int for negative specifies how many \"noise words\" should be drown. \n",
    "    workers=cores,    #  int - Use these many worker threads to train the model (=faster training with multicore machines) \n",
    "    )"
   ]
  },
  {
   "cell_type": "code",
   "execution_count": 32,
   "metadata": {
    "colab": {
     "base_uri": "https://localhost:8080/"
    },
    "executionInfo": {
     "elapsed": 3240,
     "status": "ok",
     "timestamp": 1638231507422,
     "user": {
      "displayName": "Paulo Finardi",
      "photoUrl": "https://lh3.googleusercontent.com/a-/AOh14GiAQBvHNU6heWBW3WY6Lp0SmL_8gxcTOREX09z23XI=s64",
      "userId": "15172685182696010276"
     },
     "user_tz": 180
    },
    "id": "IYzHoa97E92W",
    "outputId": "ce862d48-4e98-4eb2-c97a-a35aa9cb26ea"
   },
   "outputs": [
    {
     "name": "stderr",
     "output_type": "stream",
     "text": [
      "INFO - 04:00:40: collecting all words and their counts\n",
      "INFO - 04:00:40: PROGRESS: at sentence #0, processed 0 words, keeping 0 word types\n",
      "INFO - 04:00:40: PROGRESS: at sentence #10000, processed 61910 words, keeping 9532 word types\n",
      "INFO - 04:00:40: PROGRESS: at sentence #20000, processed 127742 words, keeping 14395 word types\n",
      "INFO - 04:00:40: PROGRESS: at sentence #30000, processed 188296 words, keeping 17438 word types\n",
      "INFO - 04:00:40: PROGRESS: at sentence #40000, processed 243931 words, keeping 20118 word types\n",
      "INFO - 04:00:41: PROGRESS: at sentence #50000, processed 303644 words, keeping 22527 word types\n",
      "INFO - 04:00:41: PROGRESS: at sentence #60000, processed 364495 words, keeping 24816 word types\n",
      "INFO - 04:00:41: PROGRESS: at sentence #70000, processed 425933 words, keeping 26982 word types\n",
      "INFO - 04:00:41: PROGRESS: at sentence #80000, processed 486150 words, keeping 28784 word types\n",
      "INFO - 04:00:41: collected 29723 word types from a corpus of 526126 raw words and 86207 sentences\n",
      "INFO - 04:00:41: Creating a fresh vocabulary\n",
      "INFO - 04:00:41: Word2Vec lifecycle event {'msg': 'effective_min_count=20 retains 3335 unique words (11.220267133196515%% of original 29723, drops 26388)', 'datetime': '2021-12-01T04:00:41.294226', 'gensim': '4.1.2', 'python': '3.6.13 | packaged by conda-forge | (default, Feb 19 2021, 05:36:01) \\n[GCC 9.3.0]', 'platform': 'Linux-4.14.248-129.473.amzn1.x86_64-x86_64-with-glibc2.9', 'event': 'prepare_vocab'}\n",
      "INFO - 04:00:41: Word2Vec lifecycle event {'msg': 'effective_min_count=20 leaves 440262 word corpus (83.67995499177003%% of original 526126, drops 85864)', 'datetime': '2021-12-01T04:00:41.294767', 'gensim': '4.1.2', 'python': '3.6.13 | packaged by conda-forge | (default, Feb 19 2021, 05:36:01) \\n[GCC 9.3.0]', 'platform': 'Linux-4.14.248-129.473.amzn1.x86_64-x86_64-with-glibc2.9', 'event': 'prepare_vocab'}\n",
      "INFO - 04:00:41: deleting the raw counts dictionary of 29723 items\n",
      "INFO - 04:00:41: sample=6e-05 downsamples 1192 most-common words\n",
      "INFO - 04:00:41: Word2Vec lifecycle event {'msg': 'downsampling leaves estimated 200759.57146057178 word corpus (45.6%% of prior 440262)', 'datetime': '2021-12-01T04:00:41.314272', 'gensim': '4.1.2', 'python': '3.6.13 | packaged by conda-forge | (default, Feb 19 2021, 05:36:01) \\n[GCC 9.3.0]', 'platform': 'Linux-4.14.248-129.473.amzn1.x86_64-x86_64-with-glibc2.9', 'event': 'prepare_vocab'}\n",
      "INFO - 04:00:41: estimated required memory for 3335 words and 300 dimensions: 9671500 bytes\n",
      "INFO - 04:00:41: resetting layer weights\n",
      "INFO - 04:00:41: Word2Vec lifecycle event {'update': False, 'trim_rule': 'None', 'datetime': '2021-12-01T04:00:41.346680', 'gensim': '4.1.2', 'python': '3.6.13 | packaged by conda-forge | (default, Feb 19 2021, 05:36:01) \\n[GCC 9.3.0]', 'platform': 'Linux-4.14.248-129.473.amzn1.x86_64-x86_64-with-glibc2.9', 'event': 'build_vocab'}\n"
     ]
    },
    {
     "name": "stdout",
     "output_type": "stream",
     "text": [
      "Time to build vocab: 0.01 mins\n"
     ]
    }
   ],
   "source": [
    "# Build the Vocabulary\n",
    "t = time()\n",
    "\n",
    "w2v_model.build_vocab(sentences, progress_per=10000)\n",
    "\n",
    "print(f'Time to build vocab: {round((time()-t)/60, 2)} mins')"
   ]
  },
  {
   "cell_type": "code",
   "execution_count": 33,
   "metadata": {
    "colab": {
     "base_uri": "https://localhost:8080/"
    },
    "executionInfo": {
     "elapsed": 94506,
     "status": "ok",
     "timestamp": 1638231615207,
     "user": {
      "displayName": "Paulo Finardi",
      "photoUrl": "https://lh3.googleusercontent.com/a-/AOh14GiAQBvHNU6heWBW3WY6Lp0SmL_8gxcTOREX09z23XI=s64",
      "userId": "15172685182696010276"
     },
     "user_tz": 180
    },
    "id": "Z1JkxfXkFaIF",
    "outputId": "a3f545f0-3ea4-4827-a695-3a995011c9eb"
   },
   "outputs": [
    {
     "name": "stderr",
     "output_type": "stream",
     "text": [
      "INFO - 04:00:44: Word2Vec lifecycle event {'msg': 'training model with 16 workers on 3335 vocabulary and 300 features, using sg=0 hs=0 sample=6e-05 negative=20 window=2 shrink_windows=True', 'datetime': '2021-12-01T04:00:44.983773', 'gensim': '4.1.2', 'python': '3.6.13 | packaged by conda-forge | (default, Feb 19 2021, 05:36:01) \\n[GCC 9.3.0]', 'platform': 'Linux-4.14.248-129.473.amzn1.x86_64-x86_64-with-glibc2.9', 'event': 'train'}\n",
      "INFO - 04:00:45: worker thread finished; awaiting finish of 15 more threads\n",
      "INFO - 04:00:45: worker thread finished; awaiting finish of 14 more threads\n",
      "INFO - 04:00:45: worker thread finished; awaiting finish of 13 more threads\n",
      "INFO - 04:00:45: worker thread finished; awaiting finish of 12 more threads\n",
      "INFO - 04:00:45: worker thread finished; awaiting finish of 11 more threads\n",
      "INFO - 04:00:45: worker thread finished; awaiting finish of 10 more threads\n",
      "INFO - 04:00:45: worker thread finished; awaiting finish of 9 more threads\n",
      "INFO - 04:00:45: worker thread finished; awaiting finish of 8 more threads\n",
      "INFO - 04:00:45: worker thread finished; awaiting finish of 7 more threads\n",
      "INFO - 04:00:45: worker thread finished; awaiting finish of 6 more threads\n",
      "INFO - 04:00:45: worker thread finished; awaiting finish of 5 more threads\n",
      "INFO - 04:00:45: worker thread finished; awaiting finish of 4 more threads\n",
      "INFO - 04:00:45: worker thread finished; awaiting finish of 3 more threads\n",
      "INFO - 04:00:45: worker thread finished; awaiting finish of 2 more threads\n",
      "INFO - 04:00:45: worker thread finished; awaiting finish of 1 more threads\n",
      "INFO - 04:00:45: worker thread finished; awaiting finish of 0 more threads\n",
      "INFO - 04:00:45: EPOCH - 1 : training on 526126 raw words (200309 effective words) took 0.9s, 229292 effective words/s\n",
      "INFO - 04:00:46: worker thread finished; awaiting finish of 15 more threads\n",
      "INFO - 04:00:46: worker thread finished; awaiting finish of 14 more threads\n",
      "INFO - 04:00:46: worker thread finished; awaiting finish of 13 more threads\n",
      "INFO - 04:00:46: worker thread finished; awaiting finish of 12 more threads\n",
      "INFO - 04:00:46: worker thread finished; awaiting finish of 11 more threads\n",
      "INFO - 04:00:46: worker thread finished; awaiting finish of 10 more threads\n",
      "INFO - 04:00:46: worker thread finished; awaiting finish of 9 more threads\n",
      "INFO - 04:00:46: worker thread finished; awaiting finish of 8 more threads\n",
      "INFO - 04:00:46: worker thread finished; awaiting finish of 7 more threads\n",
      "INFO - 04:00:46: worker thread finished; awaiting finish of 6 more threads\n",
      "INFO - 04:00:46: worker thread finished; awaiting finish of 5 more threads\n",
      "INFO - 04:00:46: worker thread finished; awaiting finish of 4 more threads\n",
      "INFO - 04:00:46: worker thread finished; awaiting finish of 3 more threads\n",
      "INFO - 04:00:46: worker thread finished; awaiting finish of 2 more threads\n",
      "INFO - 04:00:46: worker thread finished; awaiting finish of 1 more threads\n",
      "INFO - 04:00:46: worker thread finished; awaiting finish of 0 more threads\n",
      "INFO - 04:00:46: EPOCH - 2 : training on 526126 raw words (201040 effective words) took 0.9s, 232584 effective words/s\n",
      "INFO - 04:00:47: worker thread finished; awaiting finish of 15 more threads\n",
      "INFO - 04:00:47: worker thread finished; awaiting finish of 14 more threads\n",
      "INFO - 04:00:47: worker thread finished; awaiting finish of 13 more threads\n",
      "INFO - 04:00:47: worker thread finished; awaiting finish of 12 more threads\n",
      "INFO - 04:00:47: worker thread finished; awaiting finish of 11 more threads\n",
      "INFO - 04:00:47: worker thread finished; awaiting finish of 10 more threads\n",
      "INFO - 04:00:47: worker thread finished; awaiting finish of 9 more threads\n",
      "INFO - 04:00:47: worker thread finished; awaiting finish of 8 more threads\n",
      "INFO - 04:00:47: worker thread finished; awaiting finish of 7 more threads\n",
      "INFO - 04:00:47: worker thread finished; awaiting finish of 6 more threads\n",
      "INFO - 04:00:47: worker thread finished; awaiting finish of 5 more threads\n",
      "INFO - 04:00:47: worker thread finished; awaiting finish of 4 more threads\n",
      "INFO - 04:00:47: worker thread finished; awaiting finish of 3 more threads\n",
      "INFO - 04:00:47: worker thread finished; awaiting finish of 2 more threads\n",
      "INFO - 04:00:47: worker thread finished; awaiting finish of 1 more threads\n",
      "INFO - 04:00:47: worker thread finished; awaiting finish of 0 more threads\n",
      "INFO - 04:00:47: EPOCH - 3 : training on 526126 raw words (200799 effective words) took 0.7s, 279630 effective words/s\n",
      "INFO - 04:00:48: worker thread finished; awaiting finish of 15 more threads\n",
      "INFO - 04:00:48: worker thread finished; awaiting finish of 14 more threads\n",
      "INFO - 04:00:48: worker thread finished; awaiting finish of 13 more threads\n",
      "INFO - 04:00:48: worker thread finished; awaiting finish of 12 more threads\n",
      "INFO - 04:00:48: worker thread finished; awaiting finish of 11 more threads\n",
      "INFO - 04:00:48: worker thread finished; awaiting finish of 10 more threads\n",
      "INFO - 04:00:48: worker thread finished; awaiting finish of 9 more threads\n",
      "INFO - 04:00:48: worker thread finished; awaiting finish of 8 more threads\n",
      "INFO - 04:00:48: worker thread finished; awaiting finish of 7 more threads\n",
      "INFO - 04:00:48: worker thread finished; awaiting finish of 6 more threads\n",
      "INFO - 04:00:48: worker thread finished; awaiting finish of 5 more threads\n",
      "INFO - 04:00:48: worker thread finished; awaiting finish of 4 more threads\n",
      "INFO - 04:00:48: worker thread finished; awaiting finish of 3 more threads\n",
      "INFO - 04:00:48: worker thread finished; awaiting finish of 2 more threads\n",
      "INFO - 04:00:48: worker thread finished; awaiting finish of 1 more threads\n",
      "INFO - 04:00:48: worker thread finished; awaiting finish of 0 more threads\n",
      "INFO - 04:00:48: EPOCH - 4 : training on 526126 raw words (200732 effective words) took 0.9s, 229658 effective words/s\n",
      "INFO - 04:00:49: worker thread finished; awaiting finish of 15 more threads\n",
      "INFO - 04:00:49: worker thread finished; awaiting finish of 14 more threads\n",
      "INFO - 04:00:49: worker thread finished; awaiting finish of 13 more threads\n",
      "INFO - 04:00:49: worker thread finished; awaiting finish of 12 more threads\n",
      "INFO - 04:00:49: worker thread finished; awaiting finish of 11 more threads\n",
      "INFO - 04:00:49: worker thread finished; awaiting finish of 10 more threads\n",
      "INFO - 04:00:49: worker thread finished; awaiting finish of 9 more threads\n",
      "INFO - 04:00:49: worker thread finished; awaiting finish of 8 more threads\n",
      "INFO - 04:00:49: worker thread finished; awaiting finish of 7 more threads\n",
      "INFO - 04:00:49: worker thread finished; awaiting finish of 6 more threads\n",
      "INFO - 04:00:49: worker thread finished; awaiting finish of 5 more threads\n",
      "INFO - 04:00:49: worker thread finished; awaiting finish of 4 more threads\n",
      "INFO - 04:00:49: worker thread finished; awaiting finish of 3 more threads\n",
      "INFO - 04:00:49: worker thread finished; awaiting finish of 2 more threads\n",
      "INFO - 04:00:49: worker thread finished; awaiting finish of 1 more threads\n",
      "INFO - 04:00:49: worker thread finished; awaiting finish of 0 more threads\n",
      "INFO - 04:00:49: EPOCH - 5 : training on 526126 raw words (200893 effective words) took 0.9s, 227579 effective words/s\n",
      "INFO - 04:00:49: worker thread finished; awaiting finish of 15 more threads\n",
      "INFO - 04:00:49: worker thread finished; awaiting finish of 14 more threads\n",
      "INFO - 04:00:49: worker thread finished; awaiting finish of 13 more threads\n",
      "INFO - 04:00:49: worker thread finished; awaiting finish of 12 more threads\n",
      "INFO - 04:00:49: worker thread finished; awaiting finish of 11 more threads\n",
      "INFO - 04:00:49: worker thread finished; awaiting finish of 10 more threads\n",
      "INFO - 04:00:49: worker thread finished; awaiting finish of 9 more threads\n",
      "INFO - 04:00:49: worker thread finished; awaiting finish of 8 more threads\n",
      "INFO - 04:00:49: worker thread finished; awaiting finish of 7 more threads\n",
      "INFO - 04:00:49: worker thread finished; awaiting finish of 6 more threads\n",
      "INFO - 04:00:49: worker thread finished; awaiting finish of 5 more threads\n",
      "INFO - 04:00:49: worker thread finished; awaiting finish of 4 more threads\n",
      "INFO - 04:00:49: worker thread finished; awaiting finish of 3 more threads\n",
      "INFO - 04:00:49: worker thread finished; awaiting finish of 2 more threads\n",
      "INFO - 04:00:49: worker thread finished; awaiting finish of 1 more threads\n",
      "INFO - 04:00:49: worker thread finished; awaiting finish of 0 more threads\n",
      "INFO - 04:00:49: EPOCH - 6 : training on 526126 raw words (201230 effective words) took 0.7s, 272535 effective words/s\n",
      "INFO - 04:00:50: worker thread finished; awaiting finish of 15 more threads\n",
      "INFO - 04:00:50: worker thread finished; awaiting finish of 14 more threads\n",
      "INFO - 04:00:50: worker thread finished; awaiting finish of 13 more threads\n",
      "INFO - 04:00:50: worker thread finished; awaiting finish of 12 more threads\n",
      "INFO - 04:00:50: worker thread finished; awaiting finish of 11 more threads\n",
      "INFO - 04:00:50: worker thread finished; awaiting finish of 10 more threads\n",
      "INFO - 04:00:50: worker thread finished; awaiting finish of 9 more threads\n",
      "INFO - 04:00:50: worker thread finished; awaiting finish of 8 more threads\n",
      "INFO - 04:00:50: worker thread finished; awaiting finish of 7 more threads\n",
      "INFO - 04:00:50: worker thread finished; awaiting finish of 6 more threads\n",
      "INFO - 04:00:50: worker thread finished; awaiting finish of 5 more threads\n",
      "INFO - 04:00:50: worker thread finished; awaiting finish of 4 more threads\n",
      "INFO - 04:00:50: worker thread finished; awaiting finish of 3 more threads\n",
      "INFO - 04:00:50: worker thread finished; awaiting finish of 2 more threads\n",
      "INFO - 04:00:50: worker thread finished; awaiting finish of 1 more threads\n",
      "INFO - 04:00:50: worker thread finished; awaiting finish of 0 more threads\n",
      "INFO - 04:00:50: EPOCH - 7 : training on 526126 raw words (200893 effective words) took 0.9s, 227945 effective words/s\n",
      "INFO - 04:00:51: worker thread finished; awaiting finish of 15 more threads\n",
      "INFO - 04:00:51: worker thread finished; awaiting finish of 14 more threads\n",
      "INFO - 04:00:51: worker thread finished; awaiting finish of 13 more threads\n",
      "INFO - 04:00:51: worker thread finished; awaiting finish of 12 more threads\n",
      "INFO - 04:00:51: worker thread finished; awaiting finish of 11 more threads\n",
      "INFO - 04:00:51: worker thread finished; awaiting finish of 10 more threads\n",
      "INFO - 04:00:51: worker thread finished; awaiting finish of 9 more threads\n",
      "INFO - 04:00:51: worker thread finished; awaiting finish of 8 more threads\n",
      "INFO - 04:00:51: worker thread finished; awaiting finish of 7 more threads\n",
      "INFO - 04:00:51: worker thread finished; awaiting finish of 6 more threads\n",
      "INFO - 04:00:51: worker thread finished; awaiting finish of 5 more threads\n",
      "INFO - 04:00:51: worker thread finished; awaiting finish of 4 more threads\n",
      "INFO - 04:00:51: worker thread finished; awaiting finish of 3 more threads\n",
      "INFO - 04:00:51: worker thread finished; awaiting finish of 2 more threads\n",
      "INFO - 04:00:51: worker thread finished; awaiting finish of 1 more threads\n",
      "INFO - 04:00:51: worker thread finished; awaiting finish of 0 more threads\n",
      "INFO - 04:00:51: EPOCH - 8 : training on 526126 raw words (200601 effective words) took 0.9s, 232305 effective words/s\n",
      "INFO - 04:00:52: worker thread finished; awaiting finish of 15 more threads\n",
      "INFO - 04:00:52: worker thread finished; awaiting finish of 14 more threads\n",
      "INFO - 04:00:52: worker thread finished; awaiting finish of 13 more threads\n",
      "INFO - 04:00:52: worker thread finished; awaiting finish of 12 more threads\n",
      "INFO - 04:00:52: worker thread finished; awaiting finish of 11 more threads\n",
      "INFO - 04:00:52: worker thread finished; awaiting finish of 10 more threads\n",
      "INFO - 04:00:52: worker thread finished; awaiting finish of 9 more threads\n",
      "INFO - 04:00:52: worker thread finished; awaiting finish of 8 more threads\n",
      "INFO - 04:00:52: worker thread finished; awaiting finish of 7 more threads\n",
      "INFO - 04:00:52: worker thread finished; awaiting finish of 6 more threads\n",
      "INFO - 04:00:52: worker thread finished; awaiting finish of 5 more threads\n",
      "INFO - 04:00:52: worker thread finished; awaiting finish of 4 more threads\n",
      "INFO - 04:00:52: worker thread finished; awaiting finish of 3 more threads\n",
      "INFO - 04:00:52: worker thread finished; awaiting finish of 2 more threads\n",
      "INFO - 04:00:52: worker thread finished; awaiting finish of 1 more threads\n",
      "INFO - 04:00:52: worker thread finished; awaiting finish of 0 more threads\n",
      "INFO - 04:00:52: EPOCH - 9 : training on 526126 raw words (200655 effective words) took 0.7s, 276885 effective words/s\n",
      "INFO - 04:00:53: worker thread finished; awaiting finish of 15 more threads\n",
      "INFO - 04:00:53: worker thread finished; awaiting finish of 14 more threads\n",
      "INFO - 04:00:53: worker thread finished; awaiting finish of 13 more threads\n",
      "INFO - 04:00:53: worker thread finished; awaiting finish of 12 more threads\n",
      "INFO - 04:00:53: worker thread finished; awaiting finish of 11 more threads\n",
      "INFO - 04:00:53: worker thread finished; awaiting finish of 10 more threads\n",
      "INFO - 04:00:53: worker thread finished; awaiting finish of 9 more threads\n",
      "INFO - 04:00:53: worker thread finished; awaiting finish of 8 more threads\n",
      "INFO - 04:00:53: worker thread finished; awaiting finish of 7 more threads\n",
      "INFO - 04:00:53: worker thread finished; awaiting finish of 6 more threads\n",
      "INFO - 04:00:53: worker thread finished; awaiting finish of 5 more threads\n",
      "INFO - 04:00:53: worker thread finished; awaiting finish of 4 more threads\n",
      "INFO - 04:00:53: worker thread finished; awaiting finish of 3 more threads\n",
      "INFO - 04:00:53: worker thread finished; awaiting finish of 2 more threads\n",
      "INFO - 04:00:53: worker thread finished; awaiting finish of 1 more threads\n",
      "INFO - 04:00:53: worker thread finished; awaiting finish of 0 more threads\n",
      "INFO - 04:00:53: EPOCH - 10 : training on 526126 raw words (200477 effective words) took 0.9s, 229906 effective words/s\n",
      "INFO - 04:00:54: worker thread finished; awaiting finish of 15 more threads\n",
      "INFO - 04:00:54: worker thread finished; awaiting finish of 14 more threads\n",
      "INFO - 04:00:54: worker thread finished; awaiting finish of 13 more threads\n",
      "INFO - 04:00:54: worker thread finished; awaiting finish of 12 more threads\n",
      "INFO - 04:00:54: worker thread finished; awaiting finish of 11 more threads\n",
      "INFO - 04:00:54: worker thread finished; awaiting finish of 10 more threads\n",
      "INFO - 04:00:54: worker thread finished; awaiting finish of 9 more threads\n",
      "INFO - 04:00:54: worker thread finished; awaiting finish of 8 more threads\n",
      "INFO - 04:00:54: worker thread finished; awaiting finish of 7 more threads\n",
      "INFO - 04:00:54: worker thread finished; awaiting finish of 6 more threads\n",
      "INFO - 04:00:54: worker thread finished; awaiting finish of 5 more threads\n",
      "INFO - 04:00:54: worker thread finished; awaiting finish of 4 more threads\n",
      "INFO - 04:00:54: worker thread finished; awaiting finish of 3 more threads\n",
      "INFO - 04:00:54: worker thread finished; awaiting finish of 2 more threads\n",
      "INFO - 04:00:54: worker thread finished; awaiting finish of 1 more threads\n",
      "INFO - 04:00:54: worker thread finished; awaiting finish of 0 more threads\n",
      "INFO - 04:00:54: EPOCH - 11 : training on 526126 raw words (200700 effective words) took 0.7s, 279975 effective words/s\n",
      "INFO - 04:00:54: worker thread finished; awaiting finish of 15 more threads\n",
      "INFO - 04:00:54: worker thread finished; awaiting finish of 14 more threads\n",
      "INFO - 04:00:54: worker thread finished; awaiting finish of 13 more threads\n",
      "INFO - 04:00:54: worker thread finished; awaiting finish of 12 more threads\n",
      "INFO - 04:00:54: worker thread finished; awaiting finish of 11 more threads\n",
      "INFO - 04:00:54: worker thread finished; awaiting finish of 10 more threads\n",
      "INFO - 04:00:54: worker thread finished; awaiting finish of 9 more threads\n",
      "INFO - 04:00:54: worker thread finished; awaiting finish of 8 more threads\n",
      "INFO - 04:00:54: worker thread finished; awaiting finish of 7 more threads\n",
      "INFO - 04:00:54: worker thread finished; awaiting finish of 6 more threads\n",
      "INFO - 04:00:54: worker thread finished; awaiting finish of 5 more threads\n",
      "INFO - 04:00:54: worker thread finished; awaiting finish of 4 more threads\n",
      "INFO - 04:00:54: worker thread finished; awaiting finish of 3 more threads\n",
      "INFO - 04:00:54: worker thread finished; awaiting finish of 2 more threads\n",
      "INFO - 04:00:54: worker thread finished; awaiting finish of 1 more threads\n",
      "INFO - 04:00:54: worker thread finished; awaiting finish of 0 more threads\n",
      "INFO - 04:00:54: EPOCH - 12 : training on 526126 raw words (200601 effective words) took 0.9s, 231675 effective words/s\n",
      "INFO - 04:00:55: worker thread finished; awaiting finish of 15 more threads\n",
      "INFO - 04:00:55: worker thread finished; awaiting finish of 14 more threads\n",
      "INFO - 04:00:55: worker thread finished; awaiting finish of 13 more threads\n",
      "INFO - 04:00:55: worker thread finished; awaiting finish of 12 more threads\n",
      "INFO - 04:00:55: worker thread finished; awaiting finish of 11 more threads\n",
      "INFO - 04:00:55: worker thread finished; awaiting finish of 10 more threads\n",
      "INFO - 04:00:55: worker thread finished; awaiting finish of 9 more threads\n",
      "INFO - 04:00:55: worker thread finished; awaiting finish of 8 more threads\n",
      "INFO - 04:00:55: worker thread finished; awaiting finish of 7 more threads\n",
      "INFO - 04:00:55: worker thread finished; awaiting finish of 6 more threads\n",
      "INFO - 04:00:55: worker thread finished; awaiting finish of 5 more threads\n",
      "INFO - 04:00:55: worker thread finished; awaiting finish of 4 more threads\n",
      "INFO - 04:00:55: worker thread finished; awaiting finish of 3 more threads\n",
      "INFO - 04:00:55: worker thread finished; awaiting finish of 2 more threads\n",
      "INFO - 04:00:55: worker thread finished; awaiting finish of 1 more threads\n",
      "INFO - 04:00:55: worker thread finished; awaiting finish of 0 more threads\n",
      "INFO - 04:00:55: EPOCH - 13 : training on 526126 raw words (201091 effective words) took 0.9s, 233057 effective words/s\n",
      "INFO - 04:00:56: worker thread finished; awaiting finish of 15 more threads\n",
      "INFO - 04:00:56: worker thread finished; awaiting finish of 14 more threads\n",
      "INFO - 04:00:56: worker thread finished; awaiting finish of 13 more threads\n",
      "INFO - 04:00:56: worker thread finished; awaiting finish of 12 more threads\n",
      "INFO - 04:00:56: worker thread finished; awaiting finish of 11 more threads\n",
      "INFO - 04:00:56: worker thread finished; awaiting finish of 10 more threads\n",
      "INFO - 04:00:56: worker thread finished; awaiting finish of 9 more threads\n",
      "INFO - 04:00:56: worker thread finished; awaiting finish of 8 more threads\n",
      "INFO - 04:00:56: worker thread finished; awaiting finish of 7 more threads\n",
      "INFO - 04:00:56: worker thread finished; awaiting finish of 6 more threads\n",
      "INFO - 04:00:56: worker thread finished; awaiting finish of 5 more threads\n",
      "INFO - 04:00:56: worker thread finished; awaiting finish of 4 more threads\n",
      "INFO - 04:00:56: worker thread finished; awaiting finish of 3 more threads\n",
      "INFO - 04:00:56: worker thread finished; awaiting finish of 2 more threads\n",
      "INFO - 04:00:56: worker thread finished; awaiting finish of 1 more threads\n",
      "INFO - 04:00:56: worker thread finished; awaiting finish of 0 more threads\n",
      "INFO - 04:00:56: EPOCH - 14 : training on 526126 raw words (201027 effective words) took 0.9s, 233067 effective words/s\n",
      "INFO - 04:00:57: worker thread finished; awaiting finish of 15 more threads\n",
      "INFO - 04:00:57: worker thread finished; awaiting finish of 14 more threads\n",
      "INFO - 04:00:57: worker thread finished; awaiting finish of 13 more threads\n",
      "INFO - 04:00:57: worker thread finished; awaiting finish of 12 more threads\n",
      "INFO - 04:00:57: worker thread finished; awaiting finish of 11 more threads\n",
      "INFO - 04:00:57: worker thread finished; awaiting finish of 10 more threads\n",
      "INFO - 04:00:57: worker thread finished; awaiting finish of 9 more threads\n",
      "INFO - 04:00:57: worker thread finished; awaiting finish of 8 more threads\n",
      "INFO - 04:00:57: worker thread finished; awaiting finish of 7 more threads\n",
      "INFO - 04:00:57: worker thread finished; awaiting finish of 6 more threads\n",
      "INFO - 04:00:57: worker thread finished; awaiting finish of 5 more threads\n",
      "INFO - 04:00:57: worker thread finished; awaiting finish of 4 more threads\n",
      "INFO - 04:00:57: worker thread finished; awaiting finish of 3 more threads\n",
      "INFO - 04:00:57: worker thread finished; awaiting finish of 2 more threads\n",
      "INFO - 04:00:57: worker thread finished; awaiting finish of 1 more threads\n",
      "INFO - 04:00:57: worker thread finished; awaiting finish of 0 more threads\n",
      "INFO - 04:00:57: EPOCH - 15 : training on 526126 raw words (201175 effective words) took 0.7s, 282169 effective words/s\n",
      "INFO - 04:00:58: worker thread finished; awaiting finish of 15 more threads\n",
      "INFO - 04:00:58: worker thread finished; awaiting finish of 14 more threads\n",
      "INFO - 04:00:58: worker thread finished; awaiting finish of 13 more threads\n",
      "INFO - 04:00:58: worker thread finished; awaiting finish of 12 more threads\n",
      "INFO - 04:00:58: worker thread finished; awaiting finish of 11 more threads\n",
      "INFO - 04:00:58: worker thread finished; awaiting finish of 10 more threads\n",
      "INFO - 04:00:58: worker thread finished; awaiting finish of 9 more threads\n",
      "INFO - 04:00:58: worker thread finished; awaiting finish of 8 more threads\n",
      "INFO - 04:00:58: worker thread finished; awaiting finish of 7 more threads\n",
      "INFO - 04:00:58: worker thread finished; awaiting finish of 6 more threads\n",
      "INFO - 04:00:58: worker thread finished; awaiting finish of 5 more threads\n",
      "INFO - 04:00:58: worker thread finished; awaiting finish of 4 more threads\n",
      "INFO - 04:00:58: worker thread finished; awaiting finish of 3 more threads\n",
      "INFO - 04:00:58: worker thread finished; awaiting finish of 2 more threads\n",
      "INFO - 04:00:58: worker thread finished; awaiting finish of 1 more threads\n",
      "INFO - 04:00:58: worker thread finished; awaiting finish of 0 more threads\n",
      "INFO - 04:00:58: EPOCH - 16 : training on 526126 raw words (200640 effective words) took 0.9s, 231953 effective words/s\n",
      "INFO - 04:00:59: worker thread finished; awaiting finish of 15 more threads\n",
      "INFO - 04:00:59: worker thread finished; awaiting finish of 14 more threads\n",
      "INFO - 04:00:59: worker thread finished; awaiting finish of 13 more threads\n",
      "INFO - 04:00:59: worker thread finished; awaiting finish of 12 more threads\n",
      "INFO - 04:00:59: worker thread finished; awaiting finish of 11 more threads\n",
      "INFO - 04:00:59: worker thread finished; awaiting finish of 10 more threads\n",
      "INFO - 04:00:59: worker thread finished; awaiting finish of 9 more threads\n",
      "INFO - 04:00:59: worker thread finished; awaiting finish of 8 more threads\n",
      "INFO - 04:00:59: worker thread finished; awaiting finish of 7 more threads\n",
      "INFO - 04:00:59: worker thread finished; awaiting finish of 6 more threads\n",
      "INFO - 04:00:59: worker thread finished; awaiting finish of 5 more threads\n",
      "INFO - 04:00:59: worker thread finished; awaiting finish of 4 more threads\n",
      "INFO - 04:00:59: worker thread finished; awaiting finish of 3 more threads\n",
      "INFO - 04:00:59: worker thread finished; awaiting finish of 2 more threads\n",
      "INFO - 04:00:59: worker thread finished; awaiting finish of 1 more threads\n",
      "INFO - 04:00:59: worker thread finished; awaiting finish of 0 more threads\n",
      "INFO - 04:00:59: EPOCH - 17 : training on 526126 raw words (200709 effective words) took 0.9s, 229059 effective words/s\n",
      "INFO - 04:00:59: worker thread finished; awaiting finish of 15 more threads\n",
      "INFO - 04:00:59: worker thread finished; awaiting finish of 14 more threads\n",
      "INFO - 04:00:59: worker thread finished; awaiting finish of 13 more threads\n",
      "INFO - 04:00:59: worker thread finished; awaiting finish of 12 more threads\n",
      "INFO - 04:00:59: worker thread finished; awaiting finish of 11 more threads\n",
      "INFO - 04:00:59: worker thread finished; awaiting finish of 10 more threads\n",
      "INFO - 04:00:59: worker thread finished; awaiting finish of 9 more threads\n",
      "INFO - 04:00:59: worker thread finished; awaiting finish of 8 more threads\n",
      "INFO - 04:00:59: worker thread finished; awaiting finish of 7 more threads\n",
      "INFO - 04:00:59: worker thread finished; awaiting finish of 6 more threads\n",
      "INFO - 04:00:59: worker thread finished; awaiting finish of 5 more threads\n",
      "INFO - 04:00:59: worker thread finished; awaiting finish of 4 more threads\n",
      "INFO - 04:00:59: worker thread finished; awaiting finish of 3 more threads\n",
      "INFO - 04:00:59: worker thread finished; awaiting finish of 2 more threads\n",
      "INFO - 04:00:59: worker thread finished; awaiting finish of 1 more threads\n",
      "INFO - 04:00:59: worker thread finished; awaiting finish of 0 more threads\n",
      "INFO - 04:00:59: EPOCH - 18 : training on 526126 raw words (201029 effective words) took 0.7s, 281105 effective words/s\n",
      "INFO - 04:01:00: worker thread finished; awaiting finish of 15 more threads\n",
      "INFO - 04:01:00: worker thread finished; awaiting finish of 14 more threads\n",
      "INFO - 04:01:00: worker thread finished; awaiting finish of 13 more threads\n",
      "INFO - 04:01:00: worker thread finished; awaiting finish of 12 more threads\n",
      "INFO - 04:01:00: worker thread finished; awaiting finish of 11 more threads\n",
      "INFO - 04:01:00: worker thread finished; awaiting finish of 10 more threads\n",
      "INFO - 04:01:00: worker thread finished; awaiting finish of 9 more threads\n",
      "INFO - 04:01:00: worker thread finished; awaiting finish of 8 more threads\n",
      "INFO - 04:01:00: worker thread finished; awaiting finish of 7 more threads\n",
      "INFO - 04:01:00: worker thread finished; awaiting finish of 6 more threads\n",
      "INFO - 04:01:00: worker thread finished; awaiting finish of 5 more threads\n",
      "INFO - 04:01:00: worker thread finished; awaiting finish of 4 more threads\n",
      "INFO - 04:01:00: worker thread finished; awaiting finish of 3 more threads\n",
      "INFO - 04:01:00: worker thread finished; awaiting finish of 2 more threads\n",
      "INFO - 04:01:00: worker thread finished; awaiting finish of 1 more threads\n",
      "INFO - 04:01:00: worker thread finished; awaiting finish of 0 more threads\n",
      "INFO - 04:01:00: EPOCH - 19 : training on 526126 raw words (201264 effective words) took 0.9s, 235719 effective words/s\n",
      "INFO - 04:01:01: worker thread finished; awaiting finish of 15 more threads\n",
      "INFO - 04:01:01: worker thread finished; awaiting finish of 14 more threads\n",
      "INFO - 04:01:01: worker thread finished; awaiting finish of 13 more threads\n",
      "INFO - 04:01:01: worker thread finished; awaiting finish of 12 more threads\n",
      "INFO - 04:01:01: worker thread finished; awaiting finish of 11 more threads\n",
      "INFO - 04:01:01: worker thread finished; awaiting finish of 10 more threads\n",
      "INFO - 04:01:01: worker thread finished; awaiting finish of 9 more threads\n",
      "INFO - 04:01:01: worker thread finished; awaiting finish of 8 more threads\n",
      "INFO - 04:01:01: worker thread finished; awaiting finish of 7 more threads\n",
      "INFO - 04:01:01: worker thread finished; awaiting finish of 6 more threads\n",
      "INFO - 04:01:01: worker thread finished; awaiting finish of 5 more threads\n",
      "INFO - 04:01:01: worker thread finished; awaiting finish of 4 more threads\n",
      "INFO - 04:01:01: worker thread finished; awaiting finish of 3 more threads\n",
      "INFO - 04:01:01: worker thread finished; awaiting finish of 2 more threads\n",
      "INFO - 04:01:01: worker thread finished; awaiting finish of 1 more threads\n",
      "INFO - 04:01:01: worker thread finished; awaiting finish of 0 more threads\n",
      "INFO - 04:01:01: EPOCH - 20 : training on 526126 raw words (200407 effective words) took 0.7s, 271013 effective words/s\n",
      "INFO - 04:01:02: worker thread finished; awaiting finish of 15 more threads\n",
      "INFO - 04:01:02: worker thread finished; awaiting finish of 14 more threads\n",
      "INFO - 04:01:02: worker thread finished; awaiting finish of 13 more threads\n",
      "INFO - 04:01:02: worker thread finished; awaiting finish of 12 more threads\n",
      "INFO - 04:01:02: worker thread finished; awaiting finish of 11 more threads\n",
      "INFO - 04:01:02: worker thread finished; awaiting finish of 10 more threads\n",
      "INFO - 04:01:02: worker thread finished; awaiting finish of 9 more threads\n",
      "INFO - 04:01:02: worker thread finished; awaiting finish of 8 more threads\n",
      "INFO - 04:01:02: worker thread finished; awaiting finish of 7 more threads\n",
      "INFO - 04:01:02: worker thread finished; awaiting finish of 6 more threads\n",
      "INFO - 04:01:02: worker thread finished; awaiting finish of 5 more threads\n",
      "INFO - 04:01:02: worker thread finished; awaiting finish of 4 more threads\n",
      "INFO - 04:01:02: worker thread finished; awaiting finish of 3 more threads\n",
      "INFO - 04:01:02: worker thread finished; awaiting finish of 2 more threads\n",
      "INFO - 04:01:02: worker thread finished; awaiting finish of 1 more threads\n",
      "INFO - 04:01:02: worker thread finished; awaiting finish of 0 more threads\n",
      "INFO - 04:01:02: EPOCH - 21 : training on 526126 raw words (200581 effective words) took 0.9s, 230885 effective words/s\n",
      "INFO - 04:01:03: worker thread finished; awaiting finish of 15 more threads\n",
      "INFO - 04:01:03: worker thread finished; awaiting finish of 14 more threads\n",
      "INFO - 04:01:03: worker thread finished; awaiting finish of 13 more threads\n",
      "INFO - 04:01:03: worker thread finished; awaiting finish of 12 more threads\n",
      "INFO - 04:01:03: worker thread finished; awaiting finish of 11 more threads\n",
      "INFO - 04:01:03: worker thread finished; awaiting finish of 10 more threads\n",
      "INFO - 04:01:03: worker thread finished; awaiting finish of 9 more threads\n",
      "INFO - 04:01:03: worker thread finished; awaiting finish of 8 more threads\n",
      "INFO - 04:01:03: worker thread finished; awaiting finish of 7 more threads\n",
      "INFO - 04:01:03: worker thread finished; awaiting finish of 6 more threads\n",
      "INFO - 04:01:03: worker thread finished; awaiting finish of 5 more threads\n",
      "INFO - 04:01:03: worker thread finished; awaiting finish of 4 more threads\n",
      "INFO - 04:01:03: worker thread finished; awaiting finish of 3 more threads\n",
      "INFO - 04:01:03: worker thread finished; awaiting finish of 2 more threads\n",
      "INFO - 04:01:03: worker thread finished; awaiting finish of 1 more threads\n",
      "INFO - 04:01:03: worker thread finished; awaiting finish of 0 more threads\n",
      "INFO - 04:01:03: EPOCH - 22 : training on 526126 raw words (200896 effective words) took 0.9s, 232439 effective words/s\n",
      "INFO - 04:01:04: worker thread finished; awaiting finish of 15 more threads\n",
      "INFO - 04:01:04: worker thread finished; awaiting finish of 14 more threads\n",
      "INFO - 04:01:04: worker thread finished; awaiting finish of 13 more threads\n",
      "INFO - 04:01:04: worker thread finished; awaiting finish of 12 more threads\n",
      "INFO - 04:01:04: worker thread finished; awaiting finish of 11 more threads\n",
      "INFO - 04:01:04: worker thread finished; awaiting finish of 10 more threads\n",
      "INFO - 04:01:04: worker thread finished; awaiting finish of 9 more threads\n",
      "INFO - 04:01:04: worker thread finished; awaiting finish of 8 more threads\n",
      "INFO - 04:01:04: worker thread finished; awaiting finish of 7 more threads\n",
      "INFO - 04:01:04: worker thread finished; awaiting finish of 6 more threads\n",
      "INFO - 04:01:04: worker thread finished; awaiting finish of 5 more threads\n",
      "INFO - 04:01:04: worker thread finished; awaiting finish of 4 more threads\n",
      "INFO - 04:01:04: worker thread finished; awaiting finish of 3 more threads\n",
      "INFO - 04:01:04: worker thread finished; awaiting finish of 2 more threads\n",
      "INFO - 04:01:04: worker thread finished; awaiting finish of 1 more threads\n",
      "INFO - 04:01:04: worker thread finished; awaiting finish of 0 more threads\n",
      "INFO - 04:01:04: EPOCH - 23 : training on 526126 raw words (200813 effective words) took 0.9s, 233305 effective words/s\n",
      "INFO - 04:01:04: worker thread finished; awaiting finish of 15 more threads\n",
      "INFO - 04:01:04: worker thread finished; awaiting finish of 14 more threads\n",
      "INFO - 04:01:04: worker thread finished; awaiting finish of 13 more threads\n",
      "INFO - 04:01:04: worker thread finished; awaiting finish of 12 more threads\n",
      "INFO - 04:01:04: worker thread finished; awaiting finish of 11 more threads\n",
      "INFO - 04:01:04: worker thread finished; awaiting finish of 10 more threads\n",
      "INFO - 04:01:04: worker thread finished; awaiting finish of 9 more threads\n",
      "INFO - 04:01:04: worker thread finished; awaiting finish of 8 more threads\n",
      "INFO - 04:01:04: worker thread finished; awaiting finish of 7 more threads\n",
      "INFO - 04:01:04: worker thread finished; awaiting finish of 6 more threads\n",
      "INFO - 04:01:04: worker thread finished; awaiting finish of 5 more threads\n",
      "INFO - 04:01:04: worker thread finished; awaiting finish of 4 more threads\n",
      "INFO - 04:01:04: worker thread finished; awaiting finish of 3 more threads\n",
      "INFO - 04:01:04: worker thread finished; awaiting finish of 2 more threads\n",
      "INFO - 04:01:04: worker thread finished; awaiting finish of 1 more threads\n",
      "INFO - 04:01:04: worker thread finished; awaiting finish of 0 more threads\n",
      "INFO - 04:01:04: EPOCH - 24 : training on 526126 raw words (200731 effective words) took 0.7s, 283065 effective words/s\n",
      "INFO - 04:01:05: worker thread finished; awaiting finish of 15 more threads\n",
      "INFO - 04:01:05: worker thread finished; awaiting finish of 14 more threads\n",
      "INFO - 04:01:05: worker thread finished; awaiting finish of 13 more threads\n",
      "INFO - 04:01:05: worker thread finished; awaiting finish of 12 more threads\n",
      "INFO - 04:01:05: worker thread finished; awaiting finish of 11 more threads\n",
      "INFO - 04:01:05: worker thread finished; awaiting finish of 10 more threads\n",
      "INFO - 04:01:05: worker thread finished; awaiting finish of 9 more threads\n",
      "INFO - 04:01:05: worker thread finished; awaiting finish of 8 more threads\n",
      "INFO - 04:01:05: worker thread finished; awaiting finish of 7 more threads\n",
      "INFO - 04:01:05: worker thread finished; awaiting finish of 6 more threads\n",
      "INFO - 04:01:05: worker thread finished; awaiting finish of 5 more threads\n",
      "INFO - 04:01:05: worker thread finished; awaiting finish of 4 more threads\n",
      "INFO - 04:01:05: worker thread finished; awaiting finish of 3 more threads\n",
      "INFO - 04:01:05: worker thread finished; awaiting finish of 2 more threads\n",
      "INFO - 04:01:05: worker thread finished; awaiting finish of 1 more threads\n",
      "INFO - 04:01:05: worker thread finished; awaiting finish of 0 more threads\n",
      "INFO - 04:01:05: EPOCH - 25 : training on 526126 raw words (201115 effective words) took 0.9s, 232000 effective words/s\n",
      "INFO - 04:01:06: worker thread finished; awaiting finish of 15 more threads\n",
      "INFO - 04:01:06: worker thread finished; awaiting finish of 14 more threads\n",
      "INFO - 04:01:06: worker thread finished; awaiting finish of 13 more threads\n",
      "INFO - 04:01:06: worker thread finished; awaiting finish of 12 more threads\n",
      "INFO - 04:01:06: worker thread finished; awaiting finish of 11 more threads\n",
      "INFO - 04:01:06: worker thread finished; awaiting finish of 10 more threads\n",
      "INFO - 04:01:06: worker thread finished; awaiting finish of 9 more threads\n",
      "INFO - 04:01:06: worker thread finished; awaiting finish of 8 more threads\n",
      "INFO - 04:01:06: worker thread finished; awaiting finish of 7 more threads\n",
      "INFO - 04:01:06: worker thread finished; awaiting finish of 6 more threads\n",
      "INFO - 04:01:06: worker thread finished; awaiting finish of 5 more threads\n",
      "INFO - 04:01:06: worker thread finished; awaiting finish of 4 more threads\n",
      "INFO - 04:01:06: worker thread finished; awaiting finish of 3 more threads\n",
      "INFO - 04:01:06: worker thread finished; awaiting finish of 2 more threads\n",
      "INFO - 04:01:06: worker thread finished; awaiting finish of 1 more threads\n",
      "INFO - 04:01:06: worker thread finished; awaiting finish of 0 more threads\n",
      "INFO - 04:01:06: EPOCH - 26 : training on 526126 raw words (200835 effective words) took 0.9s, 229673 effective words/s\n",
      "INFO - 04:01:07: worker thread finished; awaiting finish of 15 more threads\n",
      "INFO - 04:01:07: worker thread finished; awaiting finish of 14 more threads\n",
      "INFO - 04:01:07: worker thread finished; awaiting finish of 13 more threads\n",
      "INFO - 04:01:07: worker thread finished; awaiting finish of 12 more threads\n",
      "INFO - 04:01:07: worker thread finished; awaiting finish of 11 more threads\n",
      "INFO - 04:01:07: worker thread finished; awaiting finish of 10 more threads\n",
      "INFO - 04:01:07: worker thread finished; awaiting finish of 9 more threads\n",
      "INFO - 04:01:07: worker thread finished; awaiting finish of 8 more threads\n",
      "INFO - 04:01:07: worker thread finished; awaiting finish of 7 more threads\n",
      "INFO - 04:01:07: worker thread finished; awaiting finish of 6 more threads\n",
      "INFO - 04:01:07: worker thread finished; awaiting finish of 5 more threads\n",
      "INFO - 04:01:07: worker thread finished; awaiting finish of 4 more threads\n",
      "INFO - 04:01:07: worker thread finished; awaiting finish of 3 more threads\n",
      "INFO - 04:01:07: worker thread finished; awaiting finish of 2 more threads\n",
      "INFO - 04:01:07: worker thread finished; awaiting finish of 1 more threads\n",
      "INFO - 04:01:07: worker thread finished; awaiting finish of 0 more threads\n",
      "INFO - 04:01:07: EPOCH - 27 : training on 526126 raw words (200744 effective words) took 0.7s, 279670 effective words/s\n",
      "INFO - 04:01:08: worker thread finished; awaiting finish of 15 more threads\n",
      "INFO - 04:01:08: worker thread finished; awaiting finish of 14 more threads\n",
      "INFO - 04:01:08: worker thread finished; awaiting finish of 13 more threads\n",
      "INFO - 04:01:08: worker thread finished; awaiting finish of 12 more threads\n",
      "INFO - 04:01:08: worker thread finished; awaiting finish of 11 more threads\n",
      "INFO - 04:01:08: worker thread finished; awaiting finish of 10 more threads\n",
      "INFO - 04:01:08: worker thread finished; awaiting finish of 9 more threads\n",
      "INFO - 04:01:08: worker thread finished; awaiting finish of 8 more threads\n",
      "INFO - 04:01:08: worker thread finished; awaiting finish of 7 more threads\n",
      "INFO - 04:01:08: worker thread finished; awaiting finish of 6 more threads\n",
      "INFO - 04:01:08: worker thread finished; awaiting finish of 5 more threads\n",
      "INFO - 04:01:08: worker thread finished; awaiting finish of 4 more threads\n",
      "INFO - 04:01:08: worker thread finished; awaiting finish of 3 more threads\n",
      "INFO - 04:01:08: worker thread finished; awaiting finish of 2 more threads\n",
      "INFO - 04:01:08: worker thread finished; awaiting finish of 1 more threads\n",
      "INFO - 04:01:08: worker thread finished; awaiting finish of 0 more threads\n",
      "INFO - 04:01:08: EPOCH - 28 : training on 526126 raw words (200250 effective words) took 0.9s, 227730 effective words/s\n",
      "INFO - 04:01:09: worker thread finished; awaiting finish of 15 more threads\n",
      "INFO - 04:01:09: worker thread finished; awaiting finish of 14 more threads\n",
      "INFO - 04:01:09: worker thread finished; awaiting finish of 13 more threads\n",
      "INFO - 04:01:09: worker thread finished; awaiting finish of 12 more threads\n",
      "INFO - 04:01:09: worker thread finished; awaiting finish of 11 more threads\n",
      "INFO - 04:01:09: worker thread finished; awaiting finish of 10 more threads\n",
      "INFO - 04:01:09: worker thread finished; awaiting finish of 9 more threads\n",
      "INFO - 04:01:09: worker thread finished; awaiting finish of 8 more threads\n",
      "INFO - 04:01:09: worker thread finished; awaiting finish of 7 more threads\n",
      "INFO - 04:01:09: worker thread finished; awaiting finish of 6 more threads\n",
      "INFO - 04:01:09: worker thread finished; awaiting finish of 5 more threads\n",
      "INFO - 04:01:09: worker thread finished; awaiting finish of 4 more threads\n",
      "INFO - 04:01:09: worker thread finished; awaiting finish of 3 more threads\n",
      "INFO - 04:01:09: worker thread finished; awaiting finish of 2 more threads\n",
      "INFO - 04:01:09: worker thread finished; awaiting finish of 1 more threads\n",
      "INFO - 04:01:09: worker thread finished; awaiting finish of 0 more threads\n",
      "INFO - 04:01:09: EPOCH - 29 : training on 526126 raw words (200838 effective words) took 0.9s, 231401 effective words/s\n",
      "INFO - 04:01:09: worker thread finished; awaiting finish of 15 more threads\n",
      "INFO - 04:01:09: worker thread finished; awaiting finish of 14 more threads\n",
      "INFO - 04:01:09: worker thread finished; awaiting finish of 13 more threads\n",
      "INFO - 04:01:09: worker thread finished; awaiting finish of 12 more threads\n",
      "INFO - 04:01:09: worker thread finished; awaiting finish of 11 more threads\n",
      "INFO - 04:01:09: worker thread finished; awaiting finish of 10 more threads\n",
      "INFO - 04:01:09: worker thread finished; awaiting finish of 9 more threads\n",
      "INFO - 04:01:09: worker thread finished; awaiting finish of 8 more threads\n",
      "INFO - 04:01:09: worker thread finished; awaiting finish of 7 more threads\n",
      "INFO - 04:01:09: worker thread finished; awaiting finish of 6 more threads\n",
      "INFO - 04:01:09: worker thread finished; awaiting finish of 5 more threads\n",
      "INFO - 04:01:09: worker thread finished; awaiting finish of 4 more threads\n",
      "INFO - 04:01:09: worker thread finished; awaiting finish of 3 more threads\n",
      "INFO - 04:01:09: worker thread finished; awaiting finish of 2 more threads\n",
      "INFO - 04:01:09: worker thread finished; awaiting finish of 1 more threads\n",
      "INFO - 04:01:09: worker thread finished; awaiting finish of 0 more threads\n",
      "INFO - 04:01:09: EPOCH - 30 : training on 526126 raw words (200746 effective words) took 0.7s, 277252 effective words/s\n",
      "INFO - 04:01:09: Word2Vec lifecycle event {'msg': 'training on 15783780 raw words (6023821 effective words) took 24.8s, 242441 effective words/s', 'datetime': '2021-12-01T04:01:09.831235', 'gensim': '4.1.2', 'python': '3.6.13 | packaged by conda-forge | (default, Feb 19 2021, 05:36:01) \\n[GCC 9.3.0]', 'platform': 'Linux-4.14.248-129.473.amzn1.x86_64-x86_64-with-glibc2.9', 'event': 'train'}\n"
     ]
    },
    {
     "name": "stdout",
     "output_type": "stream",
     "text": [
      "Time to train the model: 0.41 mins\n"
     ]
    }
   ],
   "source": [
    "# Train the Model\n",
    "t = time()\n",
    "\n",
    "w2v_model.train(\n",
    "    sentences, \n",
    "    total_examples=w2v_model.corpus_count, \n",
    "    epochs=30, \n",
    "    report_delay=1)\n",
    "\n",
    "print(f'Time to train the model: {round((time()-t)/60, 2)} mins')"
   ]
  },
  {
   "cell_type": "code",
   "execution_count": 34,
   "metadata": {
    "colab": {
     "base_uri": "https://localhost:8080/"
    },
    "executionInfo": {
     "elapsed": 14,
     "status": "ok",
     "timestamp": 1638231616218,
     "user": {
      "displayName": "Paulo Finardi",
      "photoUrl": "https://lh3.googleusercontent.com/a-/AOh14GiAQBvHNU6heWBW3WY6Lp0SmL_8gxcTOREX09z23XI=s64",
      "userId": "15172685182696010276"
     },
     "user_tz": 180
    },
    "id": "JrF8amnpFoFn",
    "outputId": "32bff5af-4d65-462f-90bc-ebc2329a9dfd"
   },
   "outputs": [
    {
     "name": "stderr",
     "output_type": "stream",
     "text": [
      "/home/ec2-user/anaconda3/envs/tensorflow_p36/lib/python3.6/site-packages/ipykernel/__main__.py:2: DeprecationWarning: Call to deprecated `init_sims` (Gensim 4.0.0 implemented internal optimizations that make calls to init_sims() unnecessary. init_sims() is now obsoleted and will be completely removed in future versions. See https://github.com/RaRe-Technologies/gensim/wiki/Migrating-from-Gensim-3.x-to-4).\n",
      "  from ipykernel import kernelapp as app\n",
      "WARNING - 04:01:09: destructive init_sims(replace=True) deprecated & no longer required for space-efficiency\n"
     ]
    }
   ],
   "source": [
    "# As we do not plan to train the model any further, we are calling init_sims(), which will make the model much more memory-efficient\n",
    "w2v_model.init_sims(replace=True)"
   ]
  },
  {
   "cell_type": "code",
   "execution_count": 35,
   "metadata": {
    "colab": {
     "base_uri": "https://localhost:8080/"
    },
    "executionInfo": {
     "elapsed": 347,
     "status": "ok",
     "timestamp": 1638231636211,
     "user": {
      "displayName": "Paulo Finardi",
      "photoUrl": "https://lh3.googleusercontent.com/a-/AOh14GiAQBvHNU6heWBW3WY6Lp0SmL_8gxcTOREX09z23XI=s64",
      "userId": "15172685182696010276"
     },
     "user_tz": 180
    },
    "id": "6sbj_gujNfNO",
    "outputId": "8f06890d-8592-4dec-bf74-a98d6e4dd89c"
   },
   "outputs": [
    {
     "name": "stdout",
     "output_type": "stream",
     "text": [
      "(300,)\n"
     ]
    },
    {
     "data": {
      "text/plain": [
       "array([-0.03603622,  0.03710632, -0.02730999,  0.10006356,  0.00031307,\n",
       "       -0.01872791,  0.09147243,  0.09128661,  0.05555009, -0.01952861,\n",
       "       -0.01400095, -0.06811906,  0.02219206,  0.00248862, -0.0348469 ,\n",
       "       -0.05713068,  0.0332632 , -0.05543892,  0.04286865,  0.0296575 ,\n",
       "        0.04443236,  0.00682823, -0.02004451,  0.06292336,  0.05489578,\n",
       "       -0.00532019, -0.06041486,  0.08148101, -0.03639199, -0.06089808,\n",
       "        0.05047544,  0.03596578, -0.05826504, -0.03224258, -0.01637412,\n",
       "        0.00210447, -0.00929911, -0.03074429, -0.04368087, -0.04642474,\n",
       "        0.00666794, -0.03752245, -0.03473829, -0.01962202, -0.00492937,\n",
       "        0.0358058 ,  0.01992089,  0.06123588,  0.00244775,  0.02725187,\n",
       "        0.07081676, -0.00853786, -0.03246971, -0.0435884 , -0.04963391,\n",
       "       -0.00189523,  0.03981914, -0.02983906,  0.00482682,  0.03335776,\n",
       "       -0.02932867, -0.03988979,  0.00539047,  0.02563651, -0.02104043,\n",
       "        0.01830587, -0.01519114,  0.04657346,  0.03308731, -0.0604414 ,\n",
       "       -0.05110942, -0.04278515,  0.09511917, -0.04385541, -0.04292607,\n",
       "        0.0787495 , -0.11159392,  0.05868302,  0.02744218, -0.0671994 ,\n",
       "       -0.00036625, -0.05917726,  0.06135906,  0.11369382,  0.00151838,\n",
       "        0.00915411, -0.07430828, -0.00785256,  0.07444715, -0.03184741,\n",
       "        0.06790171, -0.07125704,  0.08975364,  0.09186087,  0.07399583,\n",
       "        0.07553001,  0.06860655, -0.00567469, -0.09494452,  0.07030021,\n",
       "       -0.05890082, -0.02199037, -0.02728741,  0.00395708, -0.02775122,\n",
       "       -0.03887852, -0.06190435,  0.03160334, -0.0325882 ,  0.02387746,\n",
       "       -0.01304509, -0.14000133, -0.01700918,  0.05624007,  0.07434431,\n",
       "       -0.1217462 ,  0.03492378, -0.03017795,  0.10282134, -0.04568002,\n",
       "        0.0269716 , -0.01279769, -0.02960205, -0.05105068,  0.07173586,\n",
       "       -0.01468404,  0.01134762, -0.08534239, -0.00957938, -0.08928631,\n",
       "        0.0034266 ,  0.10632207, -0.0918962 , -0.07053128,  0.08261168,\n",
       "       -0.00085589,  0.01226185, -0.00143684, -0.0659447 , -0.03324302,\n",
       "       -0.06277543,  0.0132359 ,  0.00506958,  0.08160018,  0.04684786,\n",
       "       -0.01861559, -0.14125076, -0.06166669,  0.0222068 , -0.01481508,\n",
       "        0.11219448, -0.09381136, -0.04496214,  0.00702301, -0.01188239,\n",
       "       -0.00580284, -0.07815442, -0.0099243 ,  0.05182885, -0.04077104,\n",
       "        0.05062881,  0.1463042 , -0.05915815,  0.06333257,  0.00902496,\n",
       "       -0.05129031,  0.06423473,  0.00144708, -0.01497172,  0.08028207,\n",
       "       -0.02879253,  0.01516663, -0.02646058,  0.03946207, -0.01846158,\n",
       "        0.04254596,  0.00854853, -0.06559151, -0.03976175, -0.05233041,\n",
       "        0.00797466, -0.00095573, -0.08779724, -0.09295446, -0.06854498,\n",
       "       -0.00246734,  0.05706819,  0.03535049,  0.10597741,  0.01683401,\n",
       "       -0.01653929,  0.02522569, -0.05179795,  0.02240922,  0.08826542,\n",
       "       -0.03097036, -0.13480344, -0.05360821, -0.02165199, -0.07309908,\n",
       "        0.00364673, -0.03714598, -0.01880167, -0.1303415 ,  0.0341266 ,\n",
       "       -0.02884947,  0.02761497,  0.03876346,  0.02065172, -0.05488717,\n",
       "        0.03318347, -0.07554482, -0.04112234, -0.03505563,  0.04038334,\n",
       "       -0.1383958 , -0.03552897, -0.06324865, -0.09105946, -0.08590779,\n",
       "        0.07115894,  0.04049158, -0.1324735 , -0.05483606, -0.04039773,\n",
       "        0.00388518,  0.08154462,  0.03453468, -0.02133858,  0.13343802,\n",
       "        0.10761411, -0.03984743, -0.03952883, -0.03692251, -0.00453466,\n",
       "       -0.05288541, -0.00102422,  0.03925129, -0.0355976 , -0.00435017,\n",
       "        0.02060727,  0.07541619, -0.13911161, -0.04027837,  0.01452633,\n",
       "       -0.06948054,  0.04663609, -0.03123803,  0.02645226, -0.04470176,\n",
       "        0.00596564, -0.00089449,  0.07147056,  0.02452265,  0.01273747,\n",
       "       -0.09303514,  0.10092188, -0.00288669, -0.0371187 , -0.01057047,\n",
       "        0.09126715, -0.01567036,  0.03657573, -0.00528751, -0.00968036,\n",
       "       -0.0400921 , -0.02749292, -0.03191062, -0.03258396,  0.00905342,\n",
       "        0.00097775,  0.11940435,  0.01322814,  0.02271533,  0.14695157,\n",
       "       -0.01358853,  0.04064378,  0.05033521, -0.10435452,  0.02057751,\n",
       "        0.02170374, -0.06025413, -0.05785476,  0.05914842,  0.06919289,\n",
       "        0.05516438, -0.08032952, -0.0349405 ,  0.08336911,  0.12117454,\n",
       "       -0.08688124,  0.08449308,  0.12179915, -0.04696476,  0.07303889,\n",
       "        0.11672394,  0.08805553,  0.06270186,  0.07144633,  0.00494227],\n",
       "      dtype=float32)"
      ]
     },
     "execution_count": 35,
     "metadata": {},
     "output_type": "execute_result"
    }
   ],
   "source": [
    "print(w2v_model.wv.get_vector('homer').shape)\n",
    "w2v_model.wv.get_vector('homer')"
   ]
  },
  {
   "cell_type": "code",
   "execution_count": 36,
   "metadata": {
    "colab": {
     "base_uri": "https://localhost:8080/"
    },
    "executionInfo": {
     "elapsed": 5,
     "status": "ok",
     "timestamp": 1638231664853,
     "user": {
      "displayName": "Paulo Finardi",
      "photoUrl": "https://lh3.googleusercontent.com/a-/AOh14GiAQBvHNU6heWBW3WY6Lp0SmL_8gxcTOREX09z23XI=s64",
      "userId": "15172685182696010276"
     },
     "user_tz": 180
    },
    "id": "vj7zRjkEF4UN",
    "outputId": "b9614205-9a5f-40b8-d2dc-e526765a9578"
   },
   "outputs": [
    {
     "data": {
      "text/plain": [
       "[('terrific', 0.7069120407104492),\n",
       " ('bartender', 0.7007448077201843),\n",
       " ('sweetheart', 0.6946531534194946),\n",
       " ('crummy', 0.6853617429733276),\n",
       " ('good_friend', 0.6814275979995728),\n",
       " ('marge', 0.6806923151016235),\n",
       " ('bongo', 0.668121337890625),\n",
       " ('creepy', 0.6659682989120483),\n",
       " ('eliza', 0.6597092151641846),\n",
       " ('everybody', 0.6560710668563843)]"
      ]
     },
     "execution_count": 36,
     "metadata": {},
     "output_type": "execute_result"
    }
   ],
   "source": [
    "w2v_model.wv.most_similar(positive=[\"homer\"])"
   ]
  },
  {
   "cell_type": "code",
   "execution_count": 37,
   "metadata": {
    "colab": {
     "base_uri": "https://localhost:8080/"
    },
    "executionInfo": {
     "elapsed": 331,
     "status": "ok",
     "timestamp": 1638231666717,
     "user": {
      "displayName": "Paulo Finardi",
      "photoUrl": "https://lh3.googleusercontent.com/a-/AOh14GiAQBvHNU6heWBW3WY6Lp0SmL_8gxcTOREX09z23XI=s64",
      "userId": "15172685182696010276"
     },
     "user_tz": 180
    },
    "id": "_CQWCd39F9MD",
    "outputId": "6b9b036b-8951-4779-9cfa-19e90846605d"
   },
   "outputs": [
    {
     "data": {
      "text/plain": [
       "[('eliza', 0.7055696249008179),\n",
       " ('sake', 0.6838510036468506),\n",
       " ('homer', 0.6806923151016235),\n",
       " ('sweetheart', 0.6692377328872681),\n",
       " ('becky', 0.6664038300514221),\n",
       " ('badly', 0.6623876094818115),\n",
       " ('rapture', 0.659539520740509),\n",
       " ('honey', 0.6582697629928589),\n",
       " ('homie', 0.6554145812988281),\n",
       " ('terrific', 0.6512401103973389)]"
      ]
     },
     "execution_count": 37,
     "metadata": {},
     "output_type": "execute_result"
    }
   ],
   "source": [
    "w2v_model.wv.most_similar(positive=[\"marge\"])"
   ]
  },
  {
   "cell_type": "code",
   "execution_count": 38,
   "metadata": {
    "colab": {
     "base_uri": "https://localhost:8080/"
    },
    "executionInfo": {
     "elapsed": 5,
     "status": "ok",
     "timestamp": 1638231667074,
     "user": {
      "displayName": "Paulo Finardi",
      "photoUrl": "https://lh3.googleusercontent.com/a-/AOh14GiAQBvHNU6heWBW3WY6Lp0SmL_8gxcTOREX09z23XI=s64",
      "userId": "15172685182696010276"
     },
     "user_tz": 180
    },
    "id": "_aZ0kGICGZvR",
    "outputId": "9679596c-ed5d-4f61-a66a-a04beb7edfdc"
   },
   "outputs": [
    {
     "data": {
      "text/plain": [
       "[('lisa', 0.7748823165893555),\n",
       " ('hearing', 0.7650834918022156),\n",
       " ('mom_dad', 0.7370426058769226),\n",
       " ('substitute', 0.7316504716873169),\n",
       " ('surprised', 0.7298084497451782),\n",
       " ('convince', 0.7245606780052185),\n",
       " ('mom', 0.7136903405189514),\n",
       " ('upset', 0.7134643793106079),\n",
       " ('jealous', 0.6956931352615356),\n",
       " ('homework', 0.6923601627349854)]"
      ]
     },
     "execution_count": 38,
     "metadata": {},
     "output_type": "execute_result"
    }
   ],
   "source": [
    "w2v_model.wv.most_similar(positive=[\"bart\"])"
   ]
  },
  {
   "cell_type": "code",
   "execution_count": 39,
   "metadata": {
    "colab": {
     "base_uri": "https://localhost:8080/"
    },
    "executionInfo": {
     "elapsed": 335,
     "status": "ok",
     "timestamp": 1638231713429,
     "user": {
      "displayName": "Paulo Finardi",
      "photoUrl": "https://lh3.googleusercontent.com/a-/AOh14GiAQBvHNU6heWBW3WY6Lp0SmL_8gxcTOREX09z23XI=s64",
      "userId": "15172685182696010276"
     },
     "user_tz": 180
    },
    "id": "ELPE7LfkGodV",
    "outputId": "74e0c95e-c5c2-4033-de48-6d5be37d22af"
   },
   "outputs": [
    {
     "data": {
      "text/plain": [
       "(0.8778601, 0.5222331, 0.25909352)"
      ]
     },
     "execution_count": 39,
     "metadata": {},
     "output_type": "execute_result"
    }
   ],
   "source": [
    "w2v_model.wv.similarity('moe', 'tavern'), w2v_model.wv.similarity('homer', 'tavern'), w2v_model.wv.similarity('lisa', 'tavern')"
   ]
  },
  {
   "cell_type": "code",
   "execution_count": 40,
   "metadata": {
    "colab": {
     "base_uri": "https://localhost:8080/",
     "height": 90
    },
    "executionInfo": {
     "elapsed": 334,
     "status": "ok",
     "timestamp": 1638231733893,
     "user": {
      "displayName": "Paulo Finardi",
      "photoUrl": "https://lh3.googleusercontent.com/a-/AOh14GiAQBvHNU6heWBW3WY6Lp0SmL_8gxcTOREX09z23XI=s64",
      "userId": "15172685182696010276"
     },
     "user_tz": 180
    },
    "id": "RECkD2QKGuXJ",
    "outputId": "290d9ed6-7f94-4459-c766-4bdac9f842c7"
   },
   "outputs": [
    {
     "data": {
      "text/plain": [
       "'nelson'"
      ]
     },
     "execution_count": 40,
     "metadata": {},
     "output_type": "execute_result"
    }
   ],
   "source": [
    "w2v_model.wv.doesnt_match([\"nelson\", \"bart\", \"milhouse\"])"
   ]
  },
  {
   "cell_type": "code",
   "execution_count": 41,
   "metadata": {
    "executionInfo": {
     "elapsed": 333,
     "status": "ok",
     "timestamp": 1638231759168,
     "user": {
      "displayName": "Paulo Finardi",
      "photoUrl": "https://lh3.googleusercontent.com/a-/AOh14GiAQBvHNU6heWBW3WY6Lp0SmL_8gxcTOREX09z23XI=s64",
      "userId": "15172685182696010276"
     },
     "user_tz": 180
    },
    "id": "bGSExZNEIK1a"
   },
   "outputs": [],
   "source": [
    "def tsnescatterplot(model, word, list_names):\n",
    "    from sklearn.decomposition import PCA\n",
    "    from sklearn.manifold import TSNE\n",
    "    import matplotlib.pyplot as plt\n",
    "    import seaborn as sns\n",
    "\n",
    "    \"\"\" Plot in seaborn the results from the t-SNE dimensionality reduction algorithm of the vectors of a query word,\n",
    "    its list of most similar words, and a list of words.\n",
    "    \"\"\"\n",
    "    arrays = np.empty((0, 300), dtype='f')\n",
    "    word_labels = [word]\n",
    "    color_list  = ['red']\n",
    "\n",
    "    # adds the vector of the query word\n",
    "    arrays = np.append(arrays, model.wv.__getitem__([word]), axis=0)\n",
    "    \n",
    "    # gets list of most similar words\n",
    "    close_words = model.wv.most_similar([word])\n",
    "    \n",
    "    # adds the vector for each of the closest words to the array\n",
    "    for wrd_score in close_words:\n",
    "        wrd_vector = model.wv.__getitem__([wrd_score[0]])\n",
    "        word_labels.append(wrd_score[0])\n",
    "        color_list.append('blue')\n",
    "        arrays = np.append(arrays, wrd_vector, axis=0)\n",
    "    \n",
    "    # adds the vector for each of the words from list_names to the array\n",
    "    for wrd in list_names:\n",
    "        wrd_vector = model.wv.__getitem__([wrd])\n",
    "        word_labels.append(wrd)\n",
    "        color_list.append('green')\n",
    "        arrays = np.append(arrays, wrd_vector, axis=0)\n",
    "        \n",
    "    # Reduces the dimensionality from 300 to 50 dimensions with PCA\n",
    "    reduc = PCA(n_components=10).fit_transform(arrays)\n",
    "    \n",
    "    # Finds t-SNE coordinates for 2 dimensions\n",
    "    np.set_printoptions(suppress=True)\n",
    "    \n",
    "    Y = TSNE(n_components=2, random_state=0, perplexity=15).fit_transform(reduc)\n",
    "    \n",
    "    # Sets everything up to plot\n",
    "    df = pd.DataFrame({'x': [x for x in Y[:, 0]],\n",
    "                       'y': [y for y in Y[:, 1]],\n",
    "                       'words': word_labels,\n",
    "                       'color': color_list})\n",
    "    \n",
    "    fig, _ = plt.subplots()\n",
    "    fig.set_size_inches(9, 9)\n",
    "    \n",
    "    # Basic plot\n",
    "    p1 = sns.regplot(data=df,\n",
    "                     x=\"x\",\n",
    "                     y=\"y\",\n",
    "                     fit_reg=False,\n",
    "                     marker=\"o\",\n",
    "                     scatter_kws={'s': 40,\n",
    "                                  'facecolors': df['color']\n",
    "                                 }\n",
    "                    )\n",
    "    \n",
    "    # Adds annotations one by one with a loop\n",
    "    for line in range(0, df.shape[0]):\n",
    "         p1.text(df[\"x\"][line],\n",
    "                 df['y'][line],\n",
    "                 '  ' + df[\"words\"][line].title(),\n",
    "                 horizontalalignment='left',\n",
    "                 verticalalignment='bottom', size='medium',\n",
    "                 color=df['color'][line],\n",
    "                 weight='normal'\n",
    "                ).set_size(15)\n",
    "\n",
    "    \n",
    "    plt.xlim(Y[:, 0].min()-50, Y[:, 0].max()+50)\n",
    "    plt.ylim(Y[:, 1].min()-50, Y[:, 1].max()+50)\n",
    "            \n",
    "    plt.title('t-SNE visualization for {}'.format(word.title()))"
   ]
  },
  {
   "cell_type": "code",
   "execution_count": 42,
   "metadata": {
    "colab": {
     "base_uri": "https://localhost:8080/",
     "height": 657
    },
    "executionInfo": {
     "elapsed": 1042,
     "status": "ok",
     "timestamp": 1638231761571,
     "user": {
      "displayName": "Paulo Finardi",
      "photoUrl": "https://lh3.googleusercontent.com/a-/AOh14GiAQBvHNU6heWBW3WY6Lp0SmL_8gxcTOREX09z23XI=s64",
      "userId": "15172685182696010276"
     },
     "user_tz": 180
    },
    "id": "3eev2YEbI05h",
    "outputId": "d06a6dc6-d012-4260-9781-616c3ec86d05"
   },
   "outputs": [
    {
     "name": "stderr",
     "output_type": "stream",
     "text": [
      "INFO - 04:01:14: generated new fontManager\n"
     ]
    },
    {
     "data": {
      "image/png": "[encoded data removed]",
      "text/plain": [
       "<Figure size 648x648 with 1 Axes>"
      ]
     },
     "metadata": {
      "needs_background": "light"
     },
     "output_type": "display_data"
    }
   ],
   "source": [
    "# Let's compare where the vector representation of Homer, his 10 most similar words \n",
    "# from the model, as well as 8 random ones, lies in a 2D graph:\n",
    "\n",
    "tsnescatterplot(w2v_model, 'homer', ['dog', 'bird', 'ah', 'maude', 'bob', 'beer', 'apu', 'duff'])"
   ]
  },
  {
   "cell_type": "code",
   "execution_count": 43,
   "metadata": {
    "colab": {
     "base_uri": "https://localhost:8080/",
     "height": 657
    },
    "executionInfo": {
     "elapsed": 1044,
     "status": "ok",
     "timestamp": 1638231797435,
     "user": {
      "displayName": "Paulo Finardi",
      "photoUrl": "https://lh3.googleusercontent.com/a-/AOh14GiAQBvHNU6heWBW3WY6Lp0SmL_8gxcTOREX09z23XI=s64",
      "userId": "15172685182696010276"
     },
     "user_tz": 180
    },
    "id": "TRQf8Z1uI6hu",
    "outputId": "dbb5367a-3fb8-4b64-d041-fde5f46b2300"
   },
   "outputs": [
    {
     "data": {
      "image/png": "[encoded data removed]",
      "text/plain": [
       "<Figure size 648x648 with 1 Axes>"
      ]
     },
     "metadata": {
      "needs_background": "light"
     },
     "output_type": "display_data"
    }
   ],
   "source": [
    "word = 'maggie'\n",
    "\n",
    "tsnescatterplot(\n",
    "    w2v_model, \n",
    "    word, \n",
    "    [i[0] for i in w2v_model.wv.most_similar(negative=[word])],\n",
    "    )"
   ]
  },
  {
   "cell_type": "markdown",
   "metadata": {
    "id": "0lZWJvE0CMF3"
   },
   "source": [
    "## Carregando embeddings pretreinado em PTBR "
   ]
  },
  {
   "cell_type": "code",
   "execution_count": 56,
   "metadata": {},
   "outputs": [],
   "source": [
    "import awswrangler as wr\n",
    "#bucket='dadoptbrtdc'\n",
    "bucket='sagemaker-us-east-2-378929394230'\n",
    "file_key = 'cbow_s300.txt'\n",
    "#from sagemaker import get_execution_role\n",
    "#role = get_execution_role()"
   ]
  },
  {
   "cell_type": "code",
   "execution_count": 59,
   "metadata": {
    "colab": {
     "base_uri": "https://localhost:8080/"
    },
    "executionInfo": {
     "elapsed": 293380,
     "status": "ok",
     "timestamp": 1638232120959,
     "user": {
      "displayName": "Paulo Finardi",
      "photoUrl": "https://lh3.googleusercontent.com/a-/AOh14GiAQBvHNU6heWBW3WY6Lp0SmL_8gxcTOREX09z23XI=s64",
      "userId": "15172685182696010276"
     },
     "user_tz": 180
    },
    "id": "2ltrdSM58QBW",
    "outputId": "17d116d1-67cd-4b66-8e49-13392286f44f"
   },
   "outputs": [
    {
     "name": "stderr",
     "output_type": "stream",
     "text": [
      "INFO - 04:58:56: loading projection weights from s3://sagemaker-us-east-2-378929394230/cbow_s300.txt\n",
      "INFO - 05:02:34: KeyedVectors lifecycle event {'msg': 'loaded (929605, 300) matrix of type float32 from s3://sagemaker-us-east-2-378929394230/cbow_s300.txt', 'binary': False, 'encoding': 'utf8', 'datetime': '2021-12-01T05:02:34.048081', 'gensim': '4.1.2', 'python': '3.6.13 | packaged by conda-forge | (default, Feb 19 2021, 05:36:01) \\n[GCC 9.3.0]', 'platform': 'Linux-4.14.248-129.473.amzn1.x86_64-x86_64-with-glibc2.9', 'event': 'load_word2vec_format'}\n"
     ]
    },
    {
     "name": "stdout",
     "output_type": "stream",
     "text": [
      "Time to load pretrained embeddings: 3.62 mins\n"
     ]
    }
   ],
   "source": [
    "from gensim.models import KeyedVectors\n",
    "\n",
    "t = time()\n",
    "\n",
    "#cbow_path = '/content/drive/MyDrive/Dirty-Talks/TDC/cbow_s300.txt'\n",
    "cbow_path = 's3://{}/{}'.format(bucket, file_key)\n",
    "\n",
    "model = KeyedVectors.load_word2vec_format(cbow_path)\n",
    "\n",
    "print(f'Time to load pretrained embeddings: {round((time()-t)/60, 2)} mins')"
   ]
  },
  {
   "cell_type": "code",
   "execution_count": 74,
   "metadata": {
    "colab": {
     "background_save": true,
     "base_uri": "https://localhost:8080/",
     "output_embedded_package_id": "1lmLfYC8wqGVfuQTSQQeEElb67SqJXTxf"
    },
    "id": "rQbTXxcODN5u",
    "outputId": "7fd396d9-76d0-47cc-855c-9fa341dcadec"
   },
   "outputs": [
    {
     "name": "stdout",
     "output_type": "stream",
     "text": [
      "vocab len: 929605\n"
     ]
    }
   ],
   "source": [
    "print(f'vocab len: {len(model.key_to_index.keys())}')\n",
    "#model.key_to_index.keys()\n"
   ]
  },
  {
   "cell_type": "code",
   "execution_count": 75,
   "metadata": {
    "colab": {
     "background_save": true
    },
    "id": "RRQblxhaWtKt"
   },
   "outputs": [
    {
     "name": "stdout",
     "output_type": "stream",
     "text": [
      "[ 2.7329    -0.10711    0.55555    1.8217    -2.5545    -0.7014\n",
      "  0.70765   -0.047459   1.4024     0.44671    1.456      1.4319\n",
      "  1.413      2.5035    -1.5375     0.45245    1.5259     0.084284\n",
      "  0.15296    1.5653    -3.8999    -2.7467    -2.53       1.2431\n",
      "  2.1222    -0.97009    0.15682   -2.462      1.4924    -2.7241\n",
      "  1.0554     0.16716   -0.71202   -3.0468    -0.58459    0.95183\n",
      " -1.4282    -1.2938    -1.0107    -0.80309    3.9286     1.5795\n",
      " -1.7386     2.3436     0.59917   -1.9332    -0.23397   -1.7094\n",
      " -0.92945    0.093548  -2.7132     0.63378    0.6383     1.9185\n",
      " -0.46793    3.1181    -3.068     -0.4807    -0.2446     2.3929\n",
      " -2.2468     0.56873    1.1597    -0.079359  -0.40589   -0.76973\n",
      "  1.6408     1.4829     4.9385     1.1311    -1.6823     0.23834\n",
      "  0.61736    1.8718    -1.8822     3.4104     0.0076786  2.1445\n",
      "  1.7295    -4.725     -1.7929     3.7867     2.2846    -0.65912\n",
      " -0.77326   -0.70943    1.4775    -0.54014    0.068159  -1.5019\n",
      "  2.0788     1.5762     3.0118    -1.1099    -2.8371     2.4724\n",
      "  2.8584     1.9143    -0.25775    1.1471    -3.0723     1.3084\n",
      "  0.94568   -2.52      -1.5463     3.674     -0.56839    0.19461\n",
      "  0.81346   -2.0081    -0.44422    1.432      0.55405    0.60296\n",
      " -2.0958     3.1833     2.5889     2.7688    -2.3757    -0.081282\n",
      " -1.0606    -1.5157     2.7505     0.3325    -0.42553   -0.98924\n",
      " -1.9833     0.57945   -0.60186    1.5057     2.4635    -1.2532\n",
      "  1.0531     0.60428    4.3505    -2.3753    -2.2709    -0.29281\n",
      " -3.151      1.3543    -0.023672  -1.5234    -1.1314    -0.96274\n",
      "  0.31649    1.0735     0.44133    0.29923   -1.1592     0.59754\n",
      "  0.27165    1.5081     1.6657    -0.79299    1.3974    -1.3412\n",
      "  3.4306     0.89531    1.2766     0.34218   -1.7668    -3.29\n",
      " -1.862      1.1004     1.6692    -1.7922     1.6802     2.7977\n",
      " -2.6476    -4.0166    -0.0025346  2.9471    -0.58748   -0.91618\n",
      "  2.4204     1.7937    -1.1649     1.9391     0.79055    0.88745\n",
      "  5.0841     0.41086   -1.207      2.1423     1.3435    -1.2228\n",
      "  1.1376    -0.1279    -1.4915     2.1799     0.35944   -0.28456\n",
      "  0.34681    0.13888    0.93857   -4.0137     0.76849    1.4317\n",
      "  0.51385    0.5477    -1.2495    -0.89754    1.5278    -0.48393\n",
      " -1.2862     0.066777   3.7021     1.54      -1.303      1.4412\n",
      " -1.7545    -0.13873    2.7693    -1.0763     0.78888    0.95138\n",
      "  0.52921   -1.8993    -0.0058095 -0.79736   -3.5252    -3.22\n",
      " -1.713      1.5699    -0.73331    2.2476     0.45828    3.8565\n",
      " -0.80099    0.73716    0.045179  -0.16335    2.0343     0.4217\n",
      " -1.0881     1.6203    -1.942     -1.3695     0.45632   -0.58631\n",
      "  1.3606    -3.5865    -0.50922   -1.5255    -1.8124    -1.4106\n",
      "  1.5756    -3.7261     1.5503    -1.1562     2.6405     4.1183\n",
      " -1.5507     0.32812    3.3269     3.4775     0.13973    2.6092\n",
      "  4.9167    -5.439      3.0515    -2.5638     1.1094     2.6433\n",
      "  1.7021    -0.59303    0.80708   -2.6108    -0.44785   -0.041045\n",
      " -0.68282    0.63571    1.2451    -1.4907     1.5725    -1.3379\n",
      "  0.12982    4.2622     0.45876   -0.55957   -0.19653    0.50671\n",
      "  1.8691     5.5733    -1.5888    -0.074469   2.298      1.7353\n",
      " -3.0259     0.96339    0.87204    2.6282     1.5373     3.5801\n",
      " -1.4619    -1.4073     0.18886    0.98353   -1.4849    -0.71747  ]\n"
     ]
    }
   ],
   "source": [
    "A = model['chuva']\n",
    "print(A)"
   ]
  },
  {
   "cell_type": "code",
   "execution_count": 62,
   "metadata": {
    "colab": {
     "background_save": true
    },
    "id": "MfHbDfRzWtKt"
   },
   "outputs": [
    {
     "data": {
      "text/plain": [
       "(300,)"
      ]
     },
     "execution_count": 62,
     "metadata": {},
     "output_type": "execute_result"
    }
   ],
   "source": [
    "A.shape"
   ]
  },
  {
   "cell_type": "code",
   "execution_count": 63,
   "metadata": {
    "colab": {
     "background_save": true
    },
    "id": "37TaiMqHWtKu"
   },
   "outputs": [
    {
     "name": "stdout",
     "output_type": "stream",
     "text": [
      "rainha: 0.6863\n"
     ]
    }
   ],
   "source": [
    "result = model.most_similar(positive=['rei', 'mulher'], negative=['homem'])\n",
    "print(\"{}: {:.4f}\".format(*result[0]))"
   ]
  },
  {
   "cell_type": "code",
   "execution_count": 64,
   "metadata": {
    "colab": {
     "background_save": true
    },
    "id": "NCmY2W-pWtKu"
   },
   "outputs": [
    {
     "name": "stdout",
     "output_type": "stream",
     "text": [
      "uva\n"
     ]
    }
   ],
   "source": [
    "print(model.doesnt_match(\"uva onibus carro moto\".split()))"
   ]
  },
  {
   "cell_type": "code",
   "execution_count": 65,
   "metadata": {
    "colab": {
     "background_save": true
    },
    "id": "_lVTIGc9WtKv"
   },
   "outputs": [
    {
     "name": "stdout",
     "output_type": "stream",
     "text": [
      "mundial\n"
     ]
    }
   ],
   "source": [
    "print(model.doesnt_match(\"palmeiras corinthians são-paulo mundial\".split()))"
   ]
  },
  {
   "cell_type": "code",
   "execution_count": 66,
   "metadata": {
    "colab": {
     "background_save": true
    },
    "id": "dH0-4P7mWtKw"
   },
   "outputs": [
    {
     "name": "stdout",
     "output_type": "stream",
     "text": [
      "[('teste-t', 0.8830924034118652), ('teste\\x94,', 0.8828554153442383), ('teste0', 0.8746434450149536), ('cqteste', 0.8346535563468933), ('teste-piloto', 0.8328061103820801), ('testes.', 0.831045925617218), ('tester', 0.8306138515472412), ('teste-munho', 0.8243860006332397), ('testæ', 0.8231348395347595), ('testesde', 0.8161661028862)]\n"
     ]
    }
   ],
   "source": [
    "result = model.similar_by_word('teste')\n",
    "print (result)\n",
    "#print(\"{}: {:.4f}\".format(*result[0]))"
   ]
  },
  {
   "cell_type": "code",
   "execution_count": 67,
   "metadata": {
    "colab": {
     "background_save": true
    },
    "id": "0tZW8FoiWtKx"
   },
   "outputs": [
    {
     "data": {
      "text/plain": [
       "0.30726895"
      ]
     },
     "execution_count": 67,
     "metadata": {},
     "output_type": "execute_result"
    }
   ],
   "source": [
    "model.similarity('manga','moto')"
   ]
  },
  {
   "cell_type": "code",
   "execution_count": 68,
   "metadata": {
    "colab": {
     "background_save": true
    },
    "id": "Z5C9JAdtWtKy"
   },
   "outputs": [
    {
     "data": {
      "text/plain": [
       "0.4377795"
      ]
     },
     "execution_count": 68,
     "metadata": {},
     "output_type": "execute_result"
    }
   ],
   "source": [
    "model.similarity('manga','morango')"
   ]
  },
  {
   "cell_type": "code",
   "execution_count": 69,
   "metadata": {
    "colab": {
     "background_save": true
    },
    "id": "AAQ8LTq3WtKy"
   },
   "outputs": [
    {
     "data": {
      "text/plain": [
       "0.3291382"
      ]
     },
     "execution_count": 69,
     "metadata": {},
     "output_type": "execute_result"
    }
   ],
   "source": [
    "model.similarity('pessoa','atendente')"
   ]
  },
  {
   "cell_type": "code",
   "execution_count": 70,
   "metadata": {
    "colab": {
     "background_save": true
    },
    "id": "usp3sduYWtKz"
   },
   "outputs": [
    {
     "data": {
      "text/plain": [
       "0.43052226"
      ]
     },
     "execution_count": 70,
     "metadata": {},
     "output_type": "execute_result"
    }
   ],
   "source": [
    "model.similarity('manga','camisa')"
   ]
  },
  {
   "cell_type": "code",
   "execution_count": 85,
   "metadata": {},
   "outputs": [],
   "source": [
    "def tsnescatterplot2(model, word, list_names):\n",
    "    from sklearn.decomposition import PCA\n",
    "    from sklearn.manifold import TSNE\n",
    "    import matplotlib.pyplot as plt\n",
    "    import seaborn as sns\n",
    "\n",
    "    \"\"\" Plot in seaborn the results from the t-SNE dimensionality reduction algorithm of the vectors of a query word,\n",
    "    its list of most similar words, and a list of words.\n",
    "    \"\"\"\n",
    "    arrays = np.empty((0, 300), dtype='f')\n",
    "    word_labels = [word]\n",
    "    color_list  = ['red']\n",
    "\n",
    "    # adds the vector of the query word\n",
    "    arrays = np.append(arrays, model.__getitem__([word]), axis=0)\n",
    "    \n",
    "    # gets list of most similar words\n",
    "    close_words = model.most_similar([word])\n",
    "    \n",
    "    # adds the vector for each of the closest words to the array\n",
    "    for wrd_score in close_words:\n",
    "        wrd_vector = model.__getitem__([wrd_score[0]])\n",
    "        word_labels.append(wrd_score[0])\n",
    "        color_list.append('blue')\n",
    "        arrays = np.append(arrays, wrd_vector, axis=0)\n",
    "    \n",
    "    # adds the vector for each of the words from list_names to the array\n",
    "    for wrd in list_names:\n",
    "        wrd_vector = model.__getitem__([wrd])\n",
    "        word_labels.append(wrd)\n",
    "        color_list.append('green')\n",
    "        arrays = np.append(arrays, wrd_vector, axis=0)\n",
    "        \n",
    "    # Reduces the dimensionality from 300 to 50 dimensions with PCA\n",
    "    reduc = PCA(n_components=10).fit_transform(arrays)\n",
    "    \n",
    "    # Finds t-SNE coordinates for 2 dimensions\n",
    "    np.set_printoptions(suppress=True)\n",
    "    \n",
    "    Y = TSNE(n_components=2, random_state=0, perplexity=15).fit_transform(reduc)\n",
    "    \n",
    "    # Sets everything up to plot\n",
    "    df = pd.DataFrame({'x': [x for x in Y[:, 0]],\n",
    "                       'y': [y for y in Y[:, 1]],\n",
    "                       'words': word_labels,\n",
    "                       'color': color_list})\n",
    "    \n",
    "    fig, _ = plt.subplots()\n",
    "    fig.set_size_inches(9, 9)\n",
    "    \n",
    "    # Basic plot\n",
    "    p1 = sns.regplot(data=df,\n",
    "                     x=\"x\",\n",
    "                     y=\"y\",\n",
    "                     fit_reg=False,\n",
    "                     marker=\"o\",\n",
    "                     scatter_kws={'s': 40,\n",
    "                                  'facecolors': df['color']\n",
    "                                 }\n",
    "                    )\n",
    "    \n",
    "    # Adds annotations one by one with a loop\n",
    "    for line in range(0, df.shape[0]):\n",
    "         p1.text(df[\"x\"][line],\n",
    "                 df['y'][line],\n",
    "                 '  ' + df[\"words\"][line].title(),\n",
    "                 horizontalalignment='left',\n",
    "                 verticalalignment='bottom', size='medium',\n",
    "                 color=df['color'][line],\n",
    "                 weight='normal'\n",
    "                ).set_size(15)\n",
    "\n",
    "    \n",
    "    plt.xlim(Y[:, 0].min()-50, Y[:, 0].max()+50)\n",
    "    plt.ylim(Y[:, 1].min()-50, Y[:, 1].max()+50)\n",
    "            \n",
    "    plt.title('t-SNE visualization for {}'.format(word.title()))"
   ]
  },
  {
   "cell_type": "code",
   "execution_count": 86,
   "metadata": {
    "colab": {
     "background_save": true
    },
    "id": "pC8mgNY0WtKz"
   },
   "outputs": [
    {
     "name": "stderr",
     "output_type": "stream",
     "text": [
      "/home/ec2-user/anaconda3/envs/tensorflow_p36/lib/python3.6/site-packages/matplotlib/backends/backend_agg.py:214: RuntimeWarning: Glyph 21147 missing from current font.\n",
      "  font.set_text(s, 0.0, flags=flags)\n",
      "/home/ec2-user/anaconda3/envs/tensorflow_p36/lib/python3.6/site-packages/matplotlib/backends/backend_agg.py:183: RuntimeWarning: Glyph 21147 missing from current font.\n",
      "  font.set_text(s, 0, flags=flags)\n"
     ]
    },
    {
     "data": {
      "image/png": "[encoded data removed]",
      "text/plain": [
       "<Figure size 648x648 with 1 Axes>"
      ]
     },
     "metadata": {
      "needs_background": "light"
     },
     "output_type": "display_data"
    }
   ],
   "source": [
    "word = 'abacaxi'\n",
    "\n",
    "tsnescatterplot2(\n",
    "    model, \n",
    "    word, \n",
    "    [i[0] for i in model.most_similar(negative=[word])],\n",
    "    )"
   ]
  },
  {
   "cell_type": "markdown",
   "metadata": {
    "id": "t4DdtCkXhtHX"
   },
   "source": [
    "# Elmo"
   ]
  },
  {
   "cell_type": "code",
   "execution_count": 49,
   "metadata": {},
   "outputs": [
    {
     "name": "stdout",
     "output_type": "stream",
     "text": [
      "1.15.5\n"
     ]
    }
   ],
   "source": [
    "print(tf.__version__)"
   ]
  },
  {
   "cell_type": "code",
   "execution_count": 50,
   "metadata": {},
   "outputs": [
    {
     "name": "stdout",
     "output_type": "stream",
     "text": [
      "Collecting tensorflow_hub\n",
      "  Downloading tensorflow_hub-0.12.0-py2.py3-none-any.whl (108 kB)\n",
      "     |████████████████████████████████| 108 kB 4.8 MB/s            \n",
      "\u001b[?25hRequirement already satisfied: protobuf>=3.8.0 in /home/ec2-user/anaconda3/envs/tensorflow_p36/lib/python3.6/site-packages (from tensorflow_hub) (3.19.1)\n",
      "Requirement already satisfied: numpy>=1.12.0 in /home/ec2-user/anaconda3/envs/tensorflow_p36/lib/python3.6/site-packages (from tensorflow_hub) (1.19.5)\n",
      "Installing collected packages: tensorflow-hub\n",
      "Successfully installed tensorflow-hub-0.12.0\n"
     ]
    }
   ],
   "source": [
    "!pip install tensorflow_hub"
   ]
  },
  {
   "cell_type": "code",
   "execution_count": 51,
   "metadata": {
    "colab": {
     "base_uri": "https://localhost:8080/",
     "height": 520
    },
    "executionInfo": {
     "elapsed": 300,
     "status": "error",
     "timestamp": 1638134474036,
     "user": {
      "displayName": "Paulo Finardi",
      "photoUrl": "https://lh3.googleusercontent.com/a-/AOh14GiAQBvHNU6heWBW3WY6Lp0SmL_8gxcTOREX09z23XI=s64",
      "userId": "15172685182696010276"
     },
     "user_tz": 180
    },
    "id": "4q04sTH682f0",
    "outputId": "13ef2604-4510-429d-ca5b-2328852e208d"
   },
   "outputs": [
    {
     "name": "stderr",
     "output_type": "stream",
     "text": [
      "INFO - 04:03:57: Using /tmp/tfhub_modules to cache modules.\n",
      "INFO - 04:03:57: Downloading TF-Hub Module 'https://tfhub.dev/google/elmo/2'.\n",
      "INFO - 04:04:03: Downloaded https://tfhub.dev/google/elmo/2, Total size: 357.40MB\n",
      "INFO - 04:04:03: Downloaded TF-Hub Module 'https://tfhub.dev/google/elmo/2'.\n"
     ]
    }
   ],
   "source": [
    "import tensorflow as tf\n",
    "import tensorflow_hub as tf_hub\n",
    "\n",
    "elmo = tf_hub.Module(\"https://tfhub.dev/google/elmo/2\")\n",
    "\n",
    "def create_elmo_embeddings(data):\n",
    "    embed=elmo(data,signature=\"default\",as_dict=True)[\"elmo\"]\n",
    "    with tf.Session() as sess:\n",
    "        sess.run(tf.global_variables_initializer())\n",
    "        sess.run(tf.tables_initializer())\n",
    "        out_x=sess.run(embed)\n",
    "        return out_x"
   ]
  },
  {
   "cell_type": "code",
   "execution_count": 52,
   "metadata": {
    "id": "F7y-JDpy9Tnz"
   },
   "outputs": [
    {
     "name": "stdout",
     "output_type": "stream",
     "text": [
      "INFO:tensorflow:Saver not created because there are no variables in the graph to restore\n"
     ]
    },
    {
     "name": "stderr",
     "output_type": "stream",
     "text": [
      "INFO - 04:04:05: Saver not created because there are no variables in the graph to restore\n"
     ]
    },
    {
     "name": "stdout",
     "output_type": "stream",
     "text": [
      "(2, 3, 1024)\n"
     ]
    }
   ],
   "source": [
    "elmo_input = [\"banco da praça\", \"app do banco\"]\n",
    "\n",
    "elmo_output = create_elmo_embeddings(elmo_input)\n",
    "\n",
    "print(elmo_output.shape)"
   ]
  },
  {
   "cell_type": "code",
   "execution_count": 53,
   "metadata": {
    "id": "0ap_cwMcAYV7"
   },
   "outputs": [
    {
     "name": "stdout",
     "output_type": "stream",
     "text": [
      "banco_praca shape: (1024,)\n",
      "banco_app shape  : (1024,)\n",
      "Similaridade cosseno entra as palavras bancos : 0.709\n"
     ]
    }
   ],
   "source": [
    "banco_praca  = elmo_output[0, 0,]\n",
    "banco_app    = elmo_output[1, -1,]\n",
    "print(f'banco_praca shape: {banco_praca.shape}')\n",
    "print(f'banco_app shape  : {banco_app.shape}')\n",
    "\n",
    "sim_bancos = 1 - distance.cosine(banco_praca, banco_app)\n",
    "print(f'Similaridade cosseno entra as palavras bancos : {sim_bancos :.4}')"
   ]
  },
  {
   "cell_type": "code",
   "execution_count": 54,
   "metadata": {
    "id": "G9_MHPIAYEpS"
   },
   "outputs": [
    {
     "name": "stdout",
     "output_type": "stream",
     "text": [
      "[-0.24696088 -0.25542936  0.55345625 ... -0.45965397  0.8014051\n",
      "  0.18190841]\n"
     ]
    }
   ],
   "source": [
    "print(banco_praca)"
   ]
  },
  {
   "cell_type": "code",
   "execution_count": 55,
   "metadata": {},
   "outputs": [
    {
     "name": "stdout",
     "output_type": "stream",
     "text": [
      "[-0.17681246 -0.50536525  0.3890591  ... -0.11805564  0.14550915\n",
      "  0.26609966]\n"
     ]
    }
   ],
   "source": [
    "print(banco_app)"
   ]
  },
  {
   "cell_type": "code",
   "execution_count": null,
   "metadata": {},
   "outputs": [],
   "source": []
  }
 ],
 "metadata": {
  "colab": {
   "authorship_tag": "ABX9TyNkbS6tHQabUxfGLnGhbKqn",
   "collapsed_sections": [],
   "mount_file_id": "1Ge7JuLzex5MWTnPcImzEHO3n_g-GQLUu",
   "name": "Exemplos - Apresentação.ipynb",
   "version": ""
  },
  "kernelspec": {
   "display_name": "conda_tensorflow_p36",
   "language": "python",
   "name": "conda_tensorflow_p36"
  },
  "language_info": {
   "codemirror_mode": {
    "name": "ipython",
    "version": 3
   },
   "file_extension": ".py",
   "mimetype": "text/x-python",
   "name": "python",
   "nbconvert_exporter": "python",
   "pygments_lexer": "ipython3",
   "version": "3.6.13"
  }
 },
 "nbformat": 4,
 "nbformat_minor": 1
}
